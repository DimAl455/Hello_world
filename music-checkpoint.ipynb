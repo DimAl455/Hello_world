{
 "cells": [
  {
   "cell_type": "markdown",
   "metadata": {
    "id": "E0vqbgi9ay0H"
   },
   "source": [
    "# Яндекс.Музыка"
   ]
  },
  {
   "cell_type": "markdown",
   "metadata": {
    "id": "VUC88oWjTJw2"
   },
   "source": [
    "На данных Яндекс.Музыки сравниваем поведение пользователей двух столиц.\n",
    "\n",
    "**Цель исследования** — проверьте три гипотезы:\n",
    "1. Активность пользователей зависит от дня недели. Причём в Москве и Петербурге это проявляется по-разному.\n",
    "2. В понедельник утром в Москве преобладают одни жанры, а в Петербурге — другие. Так же и вечером пятницы преобладают разные жанры — в зависимости от города. \n",
    "3. Москва и Петербург предпочитают разные жанры музыки. В Москве чаще слушают поп-музыку, в Петербурге — русский рэп.\n",
    "\n",
    "**Ход исследования**\n",
    "\n",
    "Данные о поведении пользователей получаем из файла `datasets/music_project.csv`. О качестве данных ничего не известно. Поэтому перед проверкой гипотез понадобится обзор данных. \n",
    "\n",
    "Проверяем данные на ошибки и оцените их влияние на исследование. Затем, на этапе предобработки ищем возможность исправить самые критичные ошибки данных.\n",
    " \n",
    "Таким образом, исследование пройдёт в три этапа:\n",
    " 1. Обзор данных.\n",
    " 2. Предобработка данных.\n",
    " 3. Проверка гипотез.\n",
    "\n"
   ]
  },
  {
   "cell_type": "markdown",
   "metadata": {
    "id": "Ml1hmfXC_Zcs"
   },
   "source": [
    "## Обзор данных\n",
    "\n",
    "Составляем первое представление о данных Яндекс.Музыки.\n",
    "\n",
    "\n"
   ]
  },
  {
   "cell_type": "markdown",
   "metadata": {
    "id": "57eAOGIz_Zcs"
   },
   "source": [
    "Импортируем библиотеку pandas."
   ]
  },
  {
   "cell_type": "code",
   "execution_count": 1,
   "metadata": {
    "id": "AXN7PHPN_Zcs"
   },
   "outputs": [],
   "source": [
    "# импорт библиотеки pandas\n",
    "import pandas as pd"
   ]
  },
  {
   "cell_type": "markdown",
   "metadata": {
    "id": "SG23P8tt_Zcs"
   },
   "source": [
    "Прочитаем файл `datasets/music_project.csv`  и сохраним его в переменной `df`:"
   ]
  },
  {
   "cell_type": "code",
   "execution_count": 2,
   "metadata": {
    "id": "fFVu7vqh_Zct"
   },
   "outputs": [],
   "source": [
    "# чтение файла с данными и сохранение в df\n",
    "df = pd.read_csv('/datasets/music_project.csv')"
   ]
  },
  {
   "cell_type": "markdown",
   "metadata": {
    "id": "rDoOMd3uTqnZ"
   },
   "source": [
    "Выведим на экран первые десять строк таблицы:"
   ]
  },
  {
   "cell_type": "code",
   "execution_count": 3,
   "metadata": {
    "id": "oWTVX3gW_Zct"
   },
   "outputs": [
    {
     "data": {
      "text/html": [
       "<div>\n",
       "<style scoped>\n",
       "    .dataframe tbody tr th:only-of-type {\n",
       "        vertical-align: middle;\n",
       "    }\n",
       "\n",
       "    .dataframe tbody tr th {\n",
       "        vertical-align: top;\n",
       "    }\n",
       "\n",
       "    .dataframe thead th {\n",
       "        text-align: right;\n",
       "    }\n",
       "</style>\n",
       "<table border=\"1\" class=\"dataframe\">\n",
       "  <thead>\n",
       "    <tr style=\"text-align: right;\">\n",
       "      <th></th>\n",
       "      <th>userID</th>\n",
       "      <th>Track</th>\n",
       "      <th>artist</th>\n",
       "      <th>genre</th>\n",
       "      <th>City</th>\n",
       "      <th>time</th>\n",
       "      <th>Day</th>\n",
       "    </tr>\n",
       "  </thead>\n",
       "  <tbody>\n",
       "    <tr>\n",
       "      <td>0</td>\n",
       "      <td>FFB692EC</td>\n",
       "      <td>Kamigata To Boots</td>\n",
       "      <td>The Mass Missile</td>\n",
       "      <td>rock</td>\n",
       "      <td>Saint-Petersburg</td>\n",
       "      <td>20:28:33</td>\n",
       "      <td>Wednesday</td>\n",
       "    </tr>\n",
       "    <tr>\n",
       "      <td>1</td>\n",
       "      <td>55204538</td>\n",
       "      <td>Delayed Because of Accident</td>\n",
       "      <td>Andreas Rönnberg</td>\n",
       "      <td>rock</td>\n",
       "      <td>Moscow</td>\n",
       "      <td>14:07:09</td>\n",
       "      <td>Friday</td>\n",
       "    </tr>\n",
       "    <tr>\n",
       "      <td>2</td>\n",
       "      <td>20EC38</td>\n",
       "      <td>Funiculì funiculà</td>\n",
       "      <td>Mario Lanza</td>\n",
       "      <td>pop</td>\n",
       "      <td>Saint-Petersburg</td>\n",
       "      <td>20:58:07</td>\n",
       "      <td>Wednesday</td>\n",
       "    </tr>\n",
       "    <tr>\n",
       "      <td>3</td>\n",
       "      <td>A3DD03C9</td>\n",
       "      <td>Dragons in the Sunset</td>\n",
       "      <td>Fire + Ice</td>\n",
       "      <td>folk</td>\n",
       "      <td>Saint-Petersburg</td>\n",
       "      <td>08:37:09</td>\n",
       "      <td>Monday</td>\n",
       "    </tr>\n",
       "    <tr>\n",
       "      <td>4</td>\n",
       "      <td>E2DC1FAE</td>\n",
       "      <td>Soul People</td>\n",
       "      <td>Space Echo</td>\n",
       "      <td>dance</td>\n",
       "      <td>Moscow</td>\n",
       "      <td>08:34:34</td>\n",
       "      <td>Monday</td>\n",
       "    </tr>\n",
       "    <tr>\n",
       "      <td>5</td>\n",
       "      <td>842029A1</td>\n",
       "      <td>Преданная</td>\n",
       "      <td>IMPERVTOR</td>\n",
       "      <td>rusrap</td>\n",
       "      <td>Saint-Petersburg</td>\n",
       "      <td>13:09:41</td>\n",
       "      <td>Friday</td>\n",
       "    </tr>\n",
       "    <tr>\n",
       "      <td>6</td>\n",
       "      <td>4CB90AA5</td>\n",
       "      <td>True</td>\n",
       "      <td>Roman Messer</td>\n",
       "      <td>dance</td>\n",
       "      <td>Moscow</td>\n",
       "      <td>13:00:07</td>\n",
       "      <td>Wednesday</td>\n",
       "    </tr>\n",
       "    <tr>\n",
       "      <td>7</td>\n",
       "      <td>F03E1C1F</td>\n",
       "      <td>Feeling This Way</td>\n",
       "      <td>Polina Griffith</td>\n",
       "      <td>dance</td>\n",
       "      <td>Moscow</td>\n",
       "      <td>20:47:49</td>\n",
       "      <td>Wednesday</td>\n",
       "    </tr>\n",
       "    <tr>\n",
       "      <td>8</td>\n",
       "      <td>8FA1D3BE</td>\n",
       "      <td>И вновь продолжается бой</td>\n",
       "      <td>NaN</td>\n",
       "      <td>ruspop</td>\n",
       "      <td>Moscow</td>\n",
       "      <td>09:17:40</td>\n",
       "      <td>Friday</td>\n",
       "    </tr>\n",
       "    <tr>\n",
       "      <td>9</td>\n",
       "      <td>E772D5C0</td>\n",
       "      <td>Pessimist</td>\n",
       "      <td>NaN</td>\n",
       "      <td>dance</td>\n",
       "      <td>Saint-Petersburg</td>\n",
       "      <td>21:20:49</td>\n",
       "      <td>Wednesday</td>\n",
       "    </tr>\n",
       "  </tbody>\n",
       "</table>\n",
       "</div>"
      ],
      "text/plain": [
       "     userID                        Track            artist   genre  \\\n",
       "0  FFB692EC            Kamigata To Boots  The Mass Missile    rock   \n",
       "1  55204538  Delayed Because of Accident  Andreas Rönnberg    rock   \n",
       "2    20EC38            Funiculì funiculà       Mario Lanza     pop   \n",
       "3  A3DD03C9        Dragons in the Sunset        Fire + Ice    folk   \n",
       "4  E2DC1FAE                  Soul People        Space Echo   dance   \n",
       "5  842029A1                    Преданная         IMPERVTOR  rusrap   \n",
       "6  4CB90AA5                         True      Roman Messer   dance   \n",
       "7  F03E1C1F             Feeling This Way   Polina Griffith   dance   \n",
       "8  8FA1D3BE     И вновь продолжается бой               NaN  ruspop   \n",
       "9  E772D5C0                    Pessimist               NaN   dance   \n",
       "\n",
       "             City        time        Day  \n",
       "0  Saint-Petersburg  20:28:33  Wednesday  \n",
       "1            Moscow  14:07:09     Friday  \n",
       "2  Saint-Petersburg  20:58:07  Wednesday  \n",
       "3  Saint-Petersburg  08:37:09     Monday  \n",
       "4            Moscow  08:34:34     Monday  \n",
       "5  Saint-Petersburg  13:09:41     Friday  \n",
       "6            Moscow  13:00:07  Wednesday  \n",
       "7            Moscow  20:47:49  Wednesday  \n",
       "8            Moscow  09:17:40     Friday  \n",
       "9  Saint-Petersburg  21:20:49  Wednesday  "
      ]
     },
     "metadata": {},
     "output_type": "display_data"
    }
   ],
   "source": [
    "# получение первых 10 строк таблицы df\n",
    "display(df.head(10))"
   ]
  },
  {
   "cell_type": "markdown",
   "metadata": {
    "id": "EO73Kwic_Zct"
   },
   "source": [
    "Одной командой получаем общую информацию о таблице:"
   ]
  },
  {
   "cell_type": "code",
   "execution_count": 4,
   "metadata": {
    "id": "DSf2kIb-_Zct"
   },
   "outputs": [
    {
     "name": "stdout",
     "output_type": "stream",
     "text": [
      "<class 'pandas.core.frame.DataFrame'>\n",
      "RangeIndex: 65079 entries, 0 to 65078\n",
      "Data columns (total 7 columns):\n",
      "  userID    65079 non-null object\n",
      "Track       63848 non-null object\n",
      "artist      57876 non-null object\n",
      "genre       63881 non-null object\n",
      "  City      65079 non-null object\n",
      "time        65079 non-null object\n",
      "Day         65079 non-null object\n",
      "dtypes: object(7)\n",
      "memory usage: 3.5+ MB\n"
     ]
    }
   ],
   "source": [
    "# получение общей информации о данных в таблице df\n",
    "df.info()"
   ]
  },
  {
   "cell_type": "markdown",
   "metadata": {
    "id": "TaQ2Iwbr_Zct"
   },
   "source": [
    "В таблице семь столбцов. Тип данных во всех столбцах — `object`.\n",
    "\n",
    "Согласно документации к данным:\n",
    "* `userID` — идентификатор пользователя;\n",
    "* `Track` — название трека;  \n",
    "* `artist` — имя исполнителя;\n",
    "* `genre` — название жанра;\n",
    "* `City` — город пользователя;\n",
    "* `time` — время начала прослушивания;\n",
    "* `Day` — день недели.\n",
    "\n",
    "В названиях колонок видны три нарушения стиля:\n",
    "1. Строчные буквы сочетаются с прописными.\n",
    "2. Встречаются пробелы.\n",
    "3. Название колонки 'userID' не соотвествует общепринятым правилам написания языка Python, а именно разделение слов нижним подчеркиванием 'user_ID'#Найдите ещё одну проблему в названии колонок и опишите её в этом пункте.\n",
    "\n",
    "Количество значений в столбцах различается. Значит, в данных есть пропущенные значения.\n"
   ]
  },
  {
   "cell_type": "markdown",
   "metadata": {
    "id": "MCB6-dXG_Zct"
   },
   "source": [
    "**Выводы**\n",
    "\n",
    "В каждой строке таблицы — данные о прослушанном треке. Часть колонок описывает саму композицию: название, исполнителя и жанр. Остальные данные рассказывают о пользователе: из какого он города, когда он слушал музыку. \n",
    "\n",
    "Предварительно можно утверждать, что, данных достаточно для проверки гипотез. Но встречаются пропуски в данных, а в названиях колонок — расхождения с хорошим стилем.\n",
    "\n",
    "Чтобы двигаться дальше, нужно устранить проблемы в данных."
   ]
  },
  {
   "cell_type": "markdown",
   "metadata": {
    "id": "SjYF6Ub9_Zct"
   },
   "source": [
    "## Предобработка данных\n",
    "Исправляем стиль в заголовках столбцов, исключаем пропуски. Затем проверяем данные на дубликаты."
   ]
  },
  {
   "cell_type": "markdown",
   "metadata": {
    "id": "dIaKXr29_Zct"
   },
   "source": [
    "### Стиль заголовков\n",
    "Выводим на экран названия столбцов:"
   ]
  },
  {
   "cell_type": "code",
   "execution_count": 5,
   "metadata": {
    "id": "oKOTdF_Q_Zct"
   },
   "outputs": [
    {
     "data": {
      "text/plain": [
       "Index(['  userID', 'Track', 'artist', 'genre', '  City  ', 'time', 'Day'], dtype='object')"
      ]
     },
     "execution_count": 5,
     "metadata": {},
     "output_type": "execute_result"
    }
   ],
   "source": [
    "# перечень названий столбцов таблицы df\n",
    "df.columns"
   ]
  },
  {
   "cell_type": "markdown",
   "metadata": {
    "id": "zj5534cv_Zct"
   },
   "source": [
    "Приведем названия в соответствие с хорошим стилем:\n",
    "* несколько слов в названии запишем в «змеином_регистре»,\n",
    "* все символы сделаем строчными,\n",
    "* устраним пробелы.\n",
    "\n",
    "Для этого переименуем колонки так:\n",
    "* `'  userID'` → `'user_id'`;\n",
    "* `'Track'` → `'track'`;\n",
    "* `'  City  '` → `'city'`;\n",
    "* `'Day'` → `'day'`."
   ]
  },
  {
   "cell_type": "code",
   "execution_count": 6,
   "metadata": {
    "id": "ISlFqs5y_Zct"
   },
   "outputs": [],
   "source": [
    "# переименование столбцов\n",
    "df = df.rename(columns={'  userID': 'user_id', 'Track': 'track', '  City  ': 'city', 'Day': 'day'}) "
   ]
  },
  {
   "cell_type": "markdown",
   "metadata": {
    "id": "1dqbh00J_Zct"
   },
   "source": [
    "Проверяем результат. Для этого ещё раз выведим на экран названия столбцов:"
   ]
  },
  {
   "cell_type": "code",
   "execution_count": 7,
   "metadata": {
    "id": "d4NOAmTW_Zct"
   },
   "outputs": [
    {
     "data": {
      "text/plain": [
       "Index(['user_id', 'track', 'artist', 'genre', 'city', 'time', 'day'], dtype='object')"
      ]
     },
     "execution_count": 7,
     "metadata": {},
     "output_type": "execute_result"
    }
   ],
   "source": [
    "# проверка результатов - перечень названий столбцов\n",
    "df.columns"
   ]
  },
  {
   "cell_type": "markdown",
   "metadata": {
    "id": "5ISfbcfY_Zct"
   },
   "source": [
    "### Пропуски значений\n",
    "Сначала посчитаем, сколько в таблице пропущенных значений. Для этого достаточно двух методов `pandas`:"
   ]
  },
  {
   "cell_type": "code",
   "execution_count": 8,
   "metadata": {
    "id": "RskX29qr_Zct"
   },
   "outputs": [
    {
     "data": {
      "text/plain": [
       "user_id       0\n",
       "track      1231\n",
       "artist     7203\n",
       "genre      1198\n",
       "city          0\n",
       "time          0\n",
       "day           0\n",
       "dtype: int64"
      ]
     },
     "execution_count": 8,
     "metadata": {},
     "output_type": "execute_result"
    }
   ],
   "source": [
    "# подсчёт пропусков\n",
    "df.isna().sum()"
   ]
  },
  {
   "cell_type": "markdown",
   "metadata": {
    "id": "qubhgnlO_Zct"
   },
   "source": [
    "Не все пропущенные значения влияют на исследование. Так в `track` и `artist` пропуски не важны для работы. Достаточно заменить их явными обозначениями.\n",
    "\n",
    "Необходимо:\n",
    "* заполнить пропуски явными обозначениями,\n",
    "* оценить, насколько они повредят расчётам. "
   ]
  },
  {
   "cell_type": "markdown",
   "metadata": {
    "id": "fSv2laPA_Zct"
   },
   "source": [
    "Заменить пропущенные значения в столбцах `track`, `artist` и `genre` на строку `'unknown'`. Для этого создать список `columns_to_replace`, перебрать его элементы циклом `for` и для каждого столбца выполнить замену пропущенных значений:"
   ]
  },
  {
   "cell_type": "code",
   "execution_count": 9,
   "metadata": {
    "id": "KplB5qWs_Zct"
   },
   "outputs": [],
   "source": [
    "# перебор названий столбцов в цикле и замена пропущенных значений на 'unknown'\n",
    "columns_to_replace = ['track','artist','genre']\n",
    "for value in columns_to_replace:\n",
    "    df[value] = df[value].fillna('unknown')\n",
    "    "
   ]
  },
  {
   "cell_type": "markdown",
   "metadata": {
    "id": "Ilsm-MZo_Zct"
   },
   "source": [
    "Убеждаемся, что в таблице не осталось пропусков. Для этого ещё раз посчитаем пропущенные значения."
   ]
  },
  {
   "cell_type": "code",
   "execution_count": 10,
   "metadata": {
    "id": "Tq4nYRX4_Zct"
   },
   "outputs": [
    {
     "data": {
      "text/plain": [
       "user_id    0\n",
       "track      0\n",
       "artist     0\n",
       "genre      0\n",
       "city       0\n",
       "time       0\n",
       "day        0\n",
       "dtype: int64"
      ]
     },
     "execution_count": 10,
     "metadata": {},
     "output_type": "execute_result"
    }
   ],
   "source": [
    "# подсчёт пропусков\n",
    "df.isna().sum()"
   ]
  },
  {
   "cell_type": "markdown",
   "metadata": {
    "id": "BWKRtBJ3_Zct"
   },
   "source": [
    "### Дубликаты\n",
    "Посчитаем явные дубликаты в таблице одной командой:"
   ]
  },
  {
   "cell_type": "code",
   "execution_count": 11,
   "metadata": {
    "id": "36eES_S0_Zct"
   },
   "outputs": [
    {
     "data": {
      "text/plain": [
       "3826"
      ]
     },
     "execution_count": 11,
     "metadata": {},
     "output_type": "execute_result"
    }
   ],
   "source": [
    "# подсчёт явных дубликатов\n",
    "df.duplicated().sum()"
   ]
  },
  {
   "cell_type": "markdown",
   "metadata": {
    "id": "Ot25h6XR_Zct"
   },
   "source": [
    "Вызываем специальный метод `pandas`, чтобы удалить явные дубликаты:"
   ]
  },
  {
   "cell_type": "code",
   "execution_count": 12,
   "metadata": {
    "id": "exFHq6tt_Zct"
   },
   "outputs": [],
   "source": [
    "# удаление явных дубликатов (с удалением старых индексов и формированием новых)\n",
    "df = df.drop_duplicates().reset_index(drop=True)"
   ]
  },
  {
   "cell_type": "markdown",
   "metadata": {
    "id": "Im2YwBEG_Zct"
   },
   "source": [
    "Ещё раз посчитаем явные дубликаты в таблице — убеждаемся, что полностью от них избавились:"
   ]
  },
  {
   "cell_type": "code",
   "execution_count": 13,
   "metadata": {
    "id": "-8PuNWQ0_Zct"
   },
   "outputs": [
    {
     "data": {
      "text/plain": [
       "0"
      ]
     },
     "execution_count": 13,
     "metadata": {},
     "output_type": "execute_result"
    }
   ],
   "source": [
    "# проверка на отсутствие дубликатов\n",
    "df.duplicated().sum()"
   ]
  },
  {
   "cell_type": "markdown",
   "metadata": {
    "id": "QlFBsxAr_Zct"
   },
   "source": [
    "Теперь избавляемся от неявных дубликатов в колонке `genre`. Название одного и того же жанра может быть записано немного по-разному. Такие ошибки тоже повлияют на результат исследования."
   ]
  },
  {
   "cell_type": "markdown",
   "metadata": {
    "id": "eSjWwsOh_Zct"
   },
   "source": [
    "Выводим на экран список уникальных названий жанров, отсортированный в алфавитном порядке. Для этого:\n",
    "* извлекаем нужный столбец датафрейма, \n",
    "* применим к нему метод сортировки,\n",
    "* для отсортированного столбца вызываем метод, который вернёт уникальные значения из столбца."
   ]
  },
  {
   "cell_type": "code",
   "execution_count": 14,
   "metadata": {
    "id": "JIUcqzZN_Zct"
   },
   "outputs": [
    {
     "data": {
      "text/plain": [
       "array(['acid', 'acoustic', 'action', 'adult', 'africa', 'afrikaans',\n",
       "       'alternative', 'alternativepunk', 'ambient', 'americana',\n",
       "       'animated', 'anime', 'arabesk', 'arabic', 'arena',\n",
       "       'argentinetango', 'art', 'audiobook', 'author', 'avantgarde',\n",
       "       'axé', 'baile', 'balkan', 'beats', 'bigroom', 'black', 'bluegrass',\n",
       "       'blues', 'bollywood', 'bossa', 'brazilian', 'breakbeat', 'breaks',\n",
       "       'broadway', 'cantautori', 'cantopop', 'canzone', 'caribbean',\n",
       "       'caucasian', 'celtic', 'chamber', 'chanson', 'children', 'chill',\n",
       "       'chinese', 'choral', 'christian', 'christmas', 'classical',\n",
       "       'classicmetal', 'club', 'colombian', 'comedy', 'conjazz',\n",
       "       'contemporary', 'country', 'cuban', 'dance', 'dancehall',\n",
       "       'dancepop', 'dark', 'death', 'deep', 'deutschrock', 'deutschspr',\n",
       "       'dirty', 'disco', 'dnb', 'documentary', 'downbeat', 'downtempo',\n",
       "       'drum', 'dub', 'dubstep', 'eastern', 'easy', 'electronic',\n",
       "       'electropop', 'emo', 'entehno', 'epicmetal', 'estrada', 'ethnic',\n",
       "       'eurofolk', 'european', 'experimental', 'extrememetal', 'fado',\n",
       "       'fairytail', 'film', 'fitness', 'flamenco', 'folk', 'folklore',\n",
       "       'folkmetal', 'folkrock', 'folktronica', 'forró', 'frankreich',\n",
       "       'französisch', 'french', 'funk', 'future', 'gangsta', 'garage',\n",
       "       'german', 'ghazal', 'gitarre', 'glitch', 'gospel', 'gothic',\n",
       "       'grime', 'grunge', 'gypsy', 'handsup', \"hard'n'heavy\", 'hardcore',\n",
       "       'hardstyle', 'hardtechno', 'hip', 'hip-hop', 'hiphop',\n",
       "       'historisch', 'holiday', 'hop', 'horror', 'house', 'hymn', 'idm',\n",
       "       'independent', 'indian', 'indie', 'indipop', 'industrial',\n",
       "       'inspirational', 'instrumental', 'international', 'irish', 'jam',\n",
       "       'japanese', 'jazz', 'jewish', 'jpop', 'jungle', 'k-pop',\n",
       "       'karadeniz', 'karaoke', 'kayokyoku', 'korean', 'laiko', 'latin',\n",
       "       'latino', 'leftfield', 'local', 'lounge', 'loungeelectronic',\n",
       "       'lovers', 'malaysian', 'mandopop', 'marschmusik', 'meditative',\n",
       "       'mediterranean', 'melodic', 'metal', 'metalcore', 'mexican',\n",
       "       'middle', 'minimal', 'miscellaneous', 'modern', 'mood', 'mpb',\n",
       "       'muslim', 'native', 'neoklassik', 'neue', 'new', 'newage',\n",
       "       'newwave', 'nu', 'nujazz', 'numetal', 'oceania', 'old', 'opera',\n",
       "       'orchestral', 'other', 'piano', 'podcasts', 'pop', 'popdance',\n",
       "       'popelectronic', 'popeurodance', 'poprussian', 'post',\n",
       "       'posthardcore', 'postrock', 'power', 'progmetal', 'progressive',\n",
       "       'psychedelic', 'punjabi', 'punk', 'quebecois', 'ragga', 'ram',\n",
       "       'rancheras', 'rap', 'rave', 'reggae', 'reggaeton', 'regional',\n",
       "       'relax', 'religious', 'retro', 'rhythm', 'rnb', 'rnr', 'rock',\n",
       "       'rockabilly', 'rockalternative', 'rockindie', 'rockother',\n",
       "       'romance', 'roots', 'ruspop', 'rusrap', 'rusrock', 'russian',\n",
       "       'salsa', 'samba', 'scenic', 'schlager', 'self', 'sertanejo',\n",
       "       'shanson', 'shoegazing', 'showtunes', 'singer', 'ska', 'skarock',\n",
       "       'slow', 'smooth', 'soft', 'soul', 'soulful', 'sound', 'soundtrack',\n",
       "       'southern', 'specialty', 'speech', 'spiritual', 'sport',\n",
       "       'stonerrock', 'surf', 'swing', 'synthpop', 'synthrock',\n",
       "       'sängerportrait', 'tango', 'tanzorchester', 'taraftar', 'tatar',\n",
       "       'tech', 'techno', 'teen', 'thrash', 'top', 'traditional',\n",
       "       'tradjazz', 'trance', 'tribal', 'trip', 'triphop', 'tropical',\n",
       "       'türk', 'türkçe', 'ukrrock', 'unknown', 'urban', 'uzbek',\n",
       "       'variété', 'vi', 'videogame', 'vocal', 'western', 'world',\n",
       "       'worldbeat', 'ïîï', 'электроника'], dtype=object)"
      ]
     },
     "execution_count": 14,
     "metadata": {},
     "output_type": "execute_result"
    }
   ],
   "source": [
    "# Просмотр уникальных названий жанров\n",
    "df['genre'].sort_values().unique()"
   ]
  },
  {
   "cell_type": "markdown",
   "metadata": {
    "id": "qej-Qmuo_Zct"
   },
   "source": [
    "Видим следующие неявные дубликаты:\n",
    "* *hip*,\n",
    "* *hop*,\n",
    "* *hip-hop*,\n",
    "* *электроника*.\n",
    "\n",
    "Чтобы очистить от них таблицу, пишем функцию `replace_wrong_genres()` с двумя параметрами: \n",
    "* `wrong_genres` — список дубликатов,\n",
    "* `correct_genre` — строка с правильным значением.\n",
    "\n",
    "Функция должна исправить колонку `genre` в таблице `df`: заменить каждое значение из списка `wrong_genres` на значение из `correct_genre`."
   ]
  },
  {
   "cell_type": "code",
   "execution_count": 15,
   "metadata": {
    "id": "ErNDkmns_Zct"
   },
   "outputs": [],
   "source": [
    "# Функция для замены неявных дубликатов\n",
    "def replace_wrong_genres(wrong_genres,correct_genre):\n",
    "    for wrong_genre in wrong_genres:\n",
    "        df['genre'] = df['genre'].replace(wrong_genre,correct_genre)\n"
   ]
  },
  {
   "cell_type": "markdown",
   "metadata": {
    "id": "aDoBJxbA_Zct"
   },
   "source": [
    "Вызываем `replace_wrong_genres()` и передаем ей такие аргументы, чтобы она устранила неявные дубликаты."
   ]
  },
  {
   "cell_type": "code",
   "execution_count": 16,
   "metadata": {
    "id": "YN5i2hpmSo09"
   },
   "outputs": [],
   "source": [
    "# Устранение неявных дубликатов\n",
    "dublicates = ['hip','hop','hip-hop']\n",
    "correct_value = 'hiphop'\n",
    "replace_wrong_genres(dublicates, correct_value)\n",
    "\n",
    "dublicates_2 = ['электроника']\n",
    "correct_value_2 = 'electronic'\n",
    "replace_wrong_genres(dublicates_2, correct_value_2)"
   ]
  },
  {
   "cell_type": "markdown",
   "metadata": {
    "id": "zQKF16_RG15m"
   },
   "source": [
    "Проверяем, что заменили неправильные названия:\n",
    "\n",
    "*   hip\n",
    "*   hop\n",
    "*   hip-hop\n",
    "*   electronic\n",
    "\n",
    "Выводим отсортированный список уникальных значений столбца `genre`:"
   ]
  },
  {
   "cell_type": "code",
   "execution_count": 17,
   "metadata": {
    "id": "wvixALnFG15m"
   },
   "outputs": [
    {
     "data": {
      "text/plain": [
       "array(['acid', 'acoustic', 'action', 'adult', 'africa', 'afrikaans',\n",
       "       'alternative', 'alternativepunk', 'ambient', 'americana',\n",
       "       'animated', 'anime', 'arabesk', 'arabic', 'arena',\n",
       "       'argentinetango', 'art', 'audiobook', 'author', 'avantgarde',\n",
       "       'axé', 'baile', 'balkan', 'beats', 'bigroom', 'black', 'bluegrass',\n",
       "       'blues', 'bollywood', 'bossa', 'brazilian', 'breakbeat', 'breaks',\n",
       "       'broadway', 'cantautori', 'cantopop', 'canzone', 'caribbean',\n",
       "       'caucasian', 'celtic', 'chamber', 'chanson', 'children', 'chill',\n",
       "       'chinese', 'choral', 'christian', 'christmas', 'classical',\n",
       "       'classicmetal', 'club', 'colombian', 'comedy', 'conjazz',\n",
       "       'contemporary', 'country', 'cuban', 'dance', 'dancehall',\n",
       "       'dancepop', 'dark', 'death', 'deep', 'deutschrock', 'deutschspr',\n",
       "       'dirty', 'disco', 'dnb', 'documentary', 'downbeat', 'downtempo',\n",
       "       'drum', 'dub', 'dubstep', 'eastern', 'easy', 'electronic',\n",
       "       'electropop', 'emo', 'entehno', 'epicmetal', 'estrada', 'ethnic',\n",
       "       'eurofolk', 'european', 'experimental', 'extrememetal', 'fado',\n",
       "       'fairytail', 'film', 'fitness', 'flamenco', 'folk', 'folklore',\n",
       "       'folkmetal', 'folkrock', 'folktronica', 'forró', 'frankreich',\n",
       "       'französisch', 'french', 'funk', 'future', 'gangsta', 'garage',\n",
       "       'german', 'ghazal', 'gitarre', 'glitch', 'gospel', 'gothic',\n",
       "       'grime', 'grunge', 'gypsy', 'handsup', \"hard'n'heavy\", 'hardcore',\n",
       "       'hardstyle', 'hardtechno', 'hiphop', 'historisch', 'holiday',\n",
       "       'horror', 'house', 'hymn', 'idm', 'independent', 'indian', 'indie',\n",
       "       'indipop', 'industrial', 'inspirational', 'instrumental',\n",
       "       'international', 'irish', 'jam', 'japanese', 'jazz', 'jewish',\n",
       "       'jpop', 'jungle', 'k-pop', 'karadeniz', 'karaoke', 'kayokyoku',\n",
       "       'korean', 'laiko', 'latin', 'latino', 'leftfield', 'local',\n",
       "       'lounge', 'loungeelectronic', 'lovers', 'malaysian', 'mandopop',\n",
       "       'marschmusik', 'meditative', 'mediterranean', 'melodic', 'metal',\n",
       "       'metalcore', 'mexican', 'middle', 'minimal', 'miscellaneous',\n",
       "       'modern', 'mood', 'mpb', 'muslim', 'native', 'neoklassik', 'neue',\n",
       "       'new', 'newage', 'newwave', 'nu', 'nujazz', 'numetal', 'oceania',\n",
       "       'old', 'opera', 'orchestral', 'other', 'piano', 'podcasts', 'pop',\n",
       "       'popdance', 'popelectronic', 'popeurodance', 'poprussian', 'post',\n",
       "       'posthardcore', 'postrock', 'power', 'progmetal', 'progressive',\n",
       "       'psychedelic', 'punjabi', 'punk', 'quebecois', 'ragga', 'ram',\n",
       "       'rancheras', 'rap', 'rave', 'reggae', 'reggaeton', 'regional',\n",
       "       'relax', 'religious', 'retro', 'rhythm', 'rnb', 'rnr', 'rock',\n",
       "       'rockabilly', 'rockalternative', 'rockindie', 'rockother',\n",
       "       'romance', 'roots', 'ruspop', 'rusrap', 'rusrock', 'russian',\n",
       "       'salsa', 'samba', 'scenic', 'schlager', 'self', 'sertanejo',\n",
       "       'shanson', 'shoegazing', 'showtunes', 'singer', 'ska', 'skarock',\n",
       "       'slow', 'smooth', 'soft', 'soul', 'soulful', 'sound', 'soundtrack',\n",
       "       'southern', 'specialty', 'speech', 'spiritual', 'sport',\n",
       "       'stonerrock', 'surf', 'swing', 'synthpop', 'synthrock',\n",
       "       'sängerportrait', 'tango', 'tanzorchester', 'taraftar', 'tatar',\n",
       "       'tech', 'techno', 'teen', 'thrash', 'top', 'traditional',\n",
       "       'tradjazz', 'trance', 'tribal', 'trip', 'triphop', 'tropical',\n",
       "       'türk', 'türkçe', 'ukrrock', 'unknown', 'urban', 'uzbek',\n",
       "       'variété', 'vi', 'videogame', 'vocal', 'western', 'world',\n",
       "       'worldbeat', 'ïîï'], dtype=object)"
      ]
     },
     "execution_count": 17,
     "metadata": {},
     "output_type": "execute_result"
    }
   ],
   "source": [
    "# Проверка на неявные дубликаты\n",
    "df['genre'].sort_values().unique()"
   ]
  },
  {
   "cell_type": "markdown",
   "metadata": {
    "id": "jz6a9-7HQUDd"
   },
   "source": [
    "**Выводы**\n",
    "\n",
    "Предобработка обнаружила три проблемы в данных:\n",
    "\n",
    "- нарушения в стиле заголовков,\n",
    "- пропущенные значения,\n",
    "- дубликаты — явные и неявные.\n",
    "\n",
    "Исправили заголовки, чтобы упростить работу с таблицей. Без дубликатов исследование станет более точным.\n",
    "\n",
    "Пропущенные значения заменили на `'unknown'`. Ещё предстоит увидеть, не повредят ли исследованию пропуски в колонке `genre`.\n",
    "\n",
    "Теперь можно перейти к проверке гипотез. "
   ]
  },
  {
   "cell_type": "markdown",
   "metadata": {
    "id": "WttZHXH0SqKk"
   },
   "source": [
    "## Проверка гипотез"
   ]
  },
  {
   "cell_type": "markdown",
   "metadata": {
    "id": "Im936VVi_Zcu"
   },
   "source": [
    "### Сравнение поведения пользователей двух столиц"
   ]
  },
  {
   "cell_type": "markdown",
   "metadata": {
    "id": "nwt_MuaL_Zcu"
   },
   "source": [
    "Первая гипотеза утверждает, что пользователи по-разному слушают музыку в Москве и Санкт-Петербурге. Проверяем это предположение по данным о трёх днях недели — понедельнике, среде и пятнице. Для этого:\n",
    "\n",
    "* Разделяем пользователей Москвы и Санкт-Петербурга\n",
    "* Сравниваем, сколько треков послушала каждая группа пользователей в понедельник, среду и пятницу.\n"
   ]
  },
  {
   "cell_type": "markdown",
   "metadata": {
    "id": "8Dw_YMmT_Zcu"
   },
   "source": [
    "Для тренировки сначала выполняем каждый из расчётов по отдельности. \n",
    "\n",
    "Оцениваем активность пользователей в каждом городе. Сгруппируем данные по городу и посчитаем прослушивания в каждой группе.\n",
    "\n"
   ]
  },
  {
   "cell_type": "code",
   "execution_count": 18,
   "metadata": {
    "id": "0_Qs96oh_Zcu"
   },
   "outputs": [
    {
     "data": {
      "text/plain": [
       "city\n",
       "Moscow              42741\n",
       "Saint-Petersburg    18512\n",
       "Name: user_id, dtype: int64"
      ]
     },
     "execution_count": 18,
     "metadata": {},
     "output_type": "execute_result"
    }
   ],
   "source": [
    "# Подсчёт прослушиваний в каждом городе\n",
    "df.groupby('city')['user_id'].count()"
   ]
  },
  {
   "cell_type": "markdown",
   "metadata": {
    "id": "dzli3w8o_Zcu"
   },
   "source": [
    "В Москве прослушиваний больше, чем в Петербурге. Из этого не следует, что московские пользователи чаще слушают музыку. Просто самих пользователей в Москве больше.\n",
    "\n",
    "Теперь сгруппируем данные по дню недели и подсчитаем прослушивания в понедельник, среду и пятницу. Учитываем, что в данных есть информация только о прослушиваниях только за эти дни.\n"
   ]
  },
  {
   "cell_type": "code",
   "execution_count": 19,
   "metadata": {
    "id": "uZMKjiJz_Zcu"
   },
   "outputs": [
    {
     "data": {
      "text/plain": [
       "day\n",
       "Friday       21840\n",
       "Monday       21354\n",
       "Wednesday    18059\n",
       "Name: user_id, dtype: int64"
      ]
     },
     "execution_count": 19,
     "metadata": {},
     "output_type": "execute_result"
    }
   ],
   "source": [
    "# Подсчёт прослушиваний в каждый из трёх дней\n",
    "df.groupby('day')['user_id'].count()"
   ]
  },
  {
   "cell_type": "markdown",
   "metadata": {
    "id": "cC2tNrlL_Zcu"
   },
   "source": [
    "В среднем пользователи из двух городов менее активны по средам. Но картина может измениться, если рассмотреть каждый город в отдельности."
   ]
  },
  {
   "cell_type": "markdown",
   "metadata": {
    "id": "POzs8bGa_Zcu"
   },
   "source": [
    "Теперь напишем функцию, которая объединит два эти расчёта.\n",
    "\n",
    "Создаем функцию `number_tracks()`, которая посчитает прослушивания для заданного дня и города. Ей понадобятся два параметра:\n",
    "* день недели,\n",
    "* название города.\n",
    "\n",
    "В функции сохраняем в переменную строки исходной таблицы, у которых значение:\n",
    "  * в колонке `day` равно параметру `day`,\n",
    "  * в колонке `city` равно параметру `city`.\n",
    "\n",
    "Для этого применим последовательную фильтрацию с логической индексацией.\n",
    "\n",
    "Затем посчитаем значения в столбце `user_id` получившейся таблицы. Результат сохраним в новую переменную. Вернем эту переменную из функции."
   ]
  },
  {
   "cell_type": "code",
   "execution_count": 20,
   "metadata": {
    "id": "Nz3GdQB1_Zcu"
   },
   "outputs": [],
   "source": [
    "\n",
    "def number_tracks(day,city):\n",
    "    track_list = df[df['day'] == day]\n",
    "    track_list = track_list[track_list['city'] == city]\n",
    "    track_list_count = track_list['user_id'].count()\n",
    "    return track_list_count\n"
   ]
  },
  {
   "cell_type": "markdown",
   "metadata": {
    "id": "ytf7xFrFJQ2r"
   },
   "source": [
    "Вызываем `number_tracks()` шесть раз, меняя значение параметров — так, чтобы получить данные для каждого города в каждый из трёх дней."
   ]
  },
  {
   "cell_type": "code",
   "execution_count": 21,
   "metadata": {
    "id": "rJcRATNQ_Zcu"
   },
   "outputs": [],
   "source": [
    "# количество прослушиваний в Москве по понедельникам\n",
    "number_tracks_monday_msc = number_tracks('Monday', 'Moscow')"
   ]
  },
  {
   "cell_type": "code",
   "execution_count": 22,
   "metadata": {
    "id": "hq_ncZ5T_Zcu"
   },
   "outputs": [],
   "source": [
    "# количество прослушиваний в Санкт-Петербурге по понедельникам\n",
    "number_tracks_monday_spb = number_tracks('Monday', 'Saint-Petersburg')"
   ]
  },
  {
   "cell_type": "code",
   "execution_count": 23,
   "metadata": {
    "id": "_NTy2VPU_Zcu"
   },
   "outputs": [],
   "source": [
    "# количество прослушиваний в Москве по средам\n",
    "number_tracks_wednesday_msc = number_tracks('Wednesday', 'Moscow')"
   ]
  },
  {
   "cell_type": "code",
   "execution_count": 24,
   "metadata": {
    "id": "j2y3TAwo_Zcu"
   },
   "outputs": [],
   "source": [
    "# количество прослушиваний в Санкт-Петербурге по средам\n",
    "number_tracks_wednesday_spb = number_tracks('Wednesday', 'Saint-Petersburg')"
   ]
  },
  {
   "cell_type": "code",
   "execution_count": 25,
   "metadata": {
    "id": "vYDw5u_K_Zcu"
   },
   "outputs": [],
   "source": [
    "# количество прослушиваний в Москве по пятницам\n",
    "number_tracks_friday_msc = number_tracks('Friday', 'Moscow')"
   ]
  },
  {
   "cell_type": "code",
   "execution_count": 26,
   "metadata": {
    "id": "8_yzFtW3_Zcu"
   },
   "outputs": [],
   "source": [
    "# количество прослушиваний в Санкт-Петербурге по пятницам\n",
    "number_tracks_friday_spb = number_tracks('Friday', 'Saint-Petersburg')"
   ]
  },
  {
   "cell_type": "markdown",
   "metadata": {
    "id": "7QXffbO-_Zcu"
   },
   "source": [
    "Создаем c помощью конструктора `pd.DataFrame` таблицу, где\n",
    "* названия колонок — `['city', 'monday', 'wednesday', 'friday']`;\n",
    "* данные — результаты, которые вы получили с помощью `number_tracks`."
   ]
  },
  {
   "cell_type": "code",
   "execution_count": 27,
   "metadata": {
    "id": "APAcLpOr_Zcu"
   },
   "outputs": [
    {
     "data": {
      "text/html": [
       "<div>\n",
       "<style scoped>\n",
       "    .dataframe tbody tr th:only-of-type {\n",
       "        vertical-align: middle;\n",
       "    }\n",
       "\n",
       "    .dataframe tbody tr th {\n",
       "        vertical-align: top;\n",
       "    }\n",
       "\n",
       "    .dataframe thead th {\n",
       "        text-align: right;\n",
       "    }\n",
       "</style>\n",
       "<table border=\"1\" class=\"dataframe\">\n",
       "  <thead>\n",
       "    <tr style=\"text-align: right;\">\n",
       "      <th></th>\n",
       "      <th>city</th>\n",
       "      <th>monday</th>\n",
       "      <th>wednesday</th>\n",
       "      <th>friday</th>\n",
       "    </tr>\n",
       "  </thead>\n",
       "  <tbody>\n",
       "    <tr>\n",
       "      <td>0</td>\n",
       "      <td>Moscow</td>\n",
       "      <td>15740</td>\n",
       "      <td>11056</td>\n",
       "      <td>15945</td>\n",
       "    </tr>\n",
       "    <tr>\n",
       "      <td>1</td>\n",
       "      <td>Saint-Petersburg</td>\n",
       "      <td>5614</td>\n",
       "      <td>7003</td>\n",
       "      <td>5895</td>\n",
       "    </tr>\n",
       "  </tbody>\n",
       "</table>\n",
       "</div>"
      ],
      "text/plain": [
       "               city  monday  wednesday  friday\n",
       "0            Moscow   15740      11056   15945\n",
       "1  Saint-Petersburg    5614       7003    5895"
      ]
     },
     "metadata": {},
     "output_type": "display_data"
    }
   ],
   "source": [
    "# Таблица с результатами\n",
    "columns = ['city', 'monday', 'wednesday', 'friday']\n",
    "data = [['Moscow', number_tracks_monday_msc, number_tracks_wednesday_msc, number_tracks_friday_msc],['Saint-Petersburg', number_tracks_monday_spb, number_tracks_wednesday_spb, number_tracks_friday_spb]]\n",
    "results_table = pd.DataFrame(data = data, columns = columns)\n",
    "display(results_table)"
   ]
  },
  {
   "cell_type": "markdown",
   "metadata": {
    "id": "-EgPIHYu_Zcu"
   },
   "source": [
    "**Выводы**\n",
    "\n",
    "Данные показывают разницу поведения пользователей:\n",
    "\n",
    "- В Москве пик прослушиваний приходится на понедельник и пятницу, а в среду заметен спад.\n",
    "- В Петербурге, наоборот, больше слушают музыку по средам. Активность в понедельник и пятницу здесь почти в равной мере уступает среде.\n",
    "\n",
    "Данные говорят в пользу первой гипотезы."
   ]
  },
  {
   "cell_type": "markdown",
   "metadata": {
    "id": "atZAxtq4_Zcu"
   },
   "source": [
    "### Музыка в начале и в конце недели"
   ]
  },
  {
   "cell_type": "markdown",
   "metadata": {
    "id": "eXrQqXFH_Zcu"
   },
   "source": [
    "Согласно второй гипотезе, утром в понедельник в Москве преобладают одни жанры, а в Петербурге — другие. Так же и вечером пятницы преобладают разные жанры — в зависимости от города."
   ]
  },
  {
   "cell_type": "markdown",
   "metadata": {
    "id": "S8UcW6Hw_Zcu"
   },
   "source": [
    "Сохраняем таблицы с данными в две переменные:\n",
    "* по Москве — в `moscow_general`;\n",
    "* по Санкт-Петербургу — в `spb_general`."
   ]
  },
  {
   "cell_type": "code",
   "execution_count": 28,
   "metadata": {
    "id": "qeaFfM_P_Zcu"
   },
   "outputs": [],
   "source": [
    "moscow_general = df[df['city'] == 'Moscow']"
   ]
  },
  {
   "cell_type": "code",
   "execution_count": 29,
   "metadata": {
    "id": "ORaVRKto_Zcu"
   },
   "outputs": [],
   "source": [
    "spb_general = df[df['city'] == 'Saint-Petersburg']"
   ]
  },
  {
   "cell_type": "markdown",
   "metadata": {
    "id": "MEJV-CX2_Zcu"
   },
   "source": [
    "Создаем функцию `genre_weekday()` с четырьмя параметрами:\n",
    "* таблица (датафрейм) с данными,\n",
    "* день недели,\n",
    "* начальная временная метка в формате 'hh:mm', \n",
    "* последняя временная метка в формате 'hh:mm'.\n",
    "\n",
    "Функция должна вернуть информацию о топ-10 жанров тех треков, которые прослушивали в указанный день, в промежутке между двумя отметками времени."
   ]
  },
  {
   "cell_type": "code",
   "execution_count": 30,
   "metadata": {
    "id": "laJT9BYl_Zcu"
   },
   "outputs": [],
   "source": [
    "def genre_weekday(table, day, time1, time2):\n",
    "    genre_df = table[table['day'] == day]\n",
    "    genre_df = genre_df[genre_df['time'] > time1]\n",
    "    genre_df = genre_df[genre_df['time'] < time2]\n",
    "    genre_df_count = genre_df.groupby('genre')['user_id'].count()\n",
    "    genre_df_sorted = genre_df_count.sort_values(ascending=False)\n",
    "    return genre_df_sorted.head(10)\n"
   ]
  },
  {
   "cell_type": "markdown",
   "metadata": {
    "id": "la2s2_PF_Zcu"
   },
   "source": [
    "Cравниваем результаты функции `genre_weekday()` для Москвы и Санкт-Петербурга в понедельник утром (с 7:00 до 11:00) и в пятницу вечером (с 17:00 до 23:00):"
   ]
  },
  {
   "cell_type": "code",
   "execution_count": 31,
   "metadata": {
    "id": "yz7itPUQ_Zcu"
   },
   "outputs": [
    {
     "data": {
      "text/plain": [
       "genre\n",
       "pop            781\n",
       "dance          549\n",
       "electronic     480\n",
       "rock           474\n",
       "hiphop         286\n",
       "ruspop         186\n",
       "world          181\n",
       "rusrap         175\n",
       "alternative    164\n",
       "unknown        161\n",
       "Name: user_id, dtype: int64"
      ]
     },
     "execution_count": 31,
     "metadata": {},
     "output_type": "execute_result"
    }
   ],
   "source": [
    "genre_weekday(moscow_general, 'Monday', '07:00', '11:00')"
   ]
  },
  {
   "cell_type": "code",
   "execution_count": 32,
   "metadata": {
    "id": "kwUcHPdy_Zcu"
   },
   "outputs": [
    {
     "data": {
      "text/plain": [
       "genre\n",
       "pop            218\n",
       "dance          182\n",
       "rock           162\n",
       "electronic     147\n",
       "hiphop          80\n",
       "ruspop          64\n",
       "alternative     58\n",
       "rusrap          55\n",
       "jazz            44\n",
       "classical       40\n",
       "Name: user_id, dtype: int64"
      ]
     },
     "execution_count": 32,
     "metadata": {},
     "output_type": "execute_result"
    }
   ],
   "source": [
    "# вызов функции для утра понедельника в Петербурге (вместо df — таблица spb_general)\n",
    "genre_weekday(spb_general, 'Monday', '07:00', '11:00')"
   ]
  },
  {
   "cell_type": "code",
   "execution_count": 33,
   "metadata": {
    "id": "EzXVRE1o_Zcu"
   },
   "outputs": [
    {
     "data": {
      "text/plain": [
       "genre\n",
       "pop            713\n",
       "rock           517\n",
       "dance          495\n",
       "electronic     482\n",
       "hiphop         273\n",
       "world          208\n",
       "ruspop         170\n",
       "alternative    163\n",
       "classical      163\n",
       "rusrap         142\n",
       "Name: user_id, dtype: int64"
      ]
     },
     "execution_count": 33,
     "metadata": {},
     "output_type": "execute_result"
    }
   ],
   "source": [
    "# вызов функции для вечера пятницы в Москве\n",
    "genre_weekday(moscow_general, 'Friday', '17:00', '23:00')"
   ]
  },
  {
   "cell_type": "code",
   "execution_count": 34,
   "metadata": {
    "id": "JZaEKu5v_Zcu"
   },
   "outputs": [
    {
     "data": {
      "text/plain": [
       "genre\n",
       "pop            256\n",
       "rock           216\n",
       "electronic     216\n",
       "dance          210\n",
       "hiphop          97\n",
       "alternative     63\n",
       "jazz            61\n",
       "classical       60\n",
       "rusrap          59\n",
       "world           54\n",
       "Name: user_id, dtype: int64"
      ]
     },
     "execution_count": 34,
     "metadata": {},
     "output_type": "execute_result"
    }
   ],
   "source": [
    "# вызов функции для вечера пятницы в Петербурге\n",
    "genre_weekday(spb_general, 'Friday', '17:00', '23:00')"
   ]
  },
  {
   "cell_type": "markdown",
   "metadata": {
    "id": "wrCe4MNX_Zcu"
   },
   "source": [
    "**Выводы**\n",
    "\n",
    "Сравнивая топ-10 жанров в понедельник утром, делаем следующие выводы:\n",
    "\n",
    "1. В Москве и Петербурге слушают схожую музыку. Отличие — в московский рейтинг вошел жанр “world”, а в петербургский — джаз и классика.\n",
    "\n",
    "2. В Москве пропущенных значений оказалось так много, что значение `'unknown'` заняло десятое место среди самых популярных жанров. Значит, пропущенные значения занимают существенную долю в данных и угрожают достоверности исследования.\n",
    "\n",
    "Вечер пятницы не меняет эту картину. Некоторые жанры поднимаются немного выше, другие спускаются, но в целом топ-10 остаётся тем же самым.\n",
    "\n",
    "Таким образом, вторая гипотеза подтвердилась лишь частично:\n",
    "* Пользователи слушают похожую музыку в начале недели и в конце.\n",
    "* Разница между Москвой и Петербургом не слишком выражена. В Москве чаще слушают русскую популярную музыку, в Петербурге — джаз.\n",
    "\n",
    "Однако пропуски в данных ставят под сомнение этот результат. В Москве их так много, что рейтинг топ-10 мог бы выглядеть иначе, если бы не утерянные  данные о жанрах."
   ]
  },
  {
   "cell_type": "markdown",
   "metadata": {
    "id": "JolODAqr_Zcu"
   },
   "source": [
    "### Жанровые предпочтения в Москве и Петербурге\n",
    "\n",
    "Гипотеза: Петербург — столица рэпа, музыку этого жанра там слушают чаще, чем в Москве.  А Москва — город контрастов, в котором, тем не менее, преобладает поп-музыка."
   ]
  },
  {
   "cell_type": "markdown",
   "metadata": {
    "id": "DlegSvaT_Zcu"
   },
   "source": [
    "Сгруппируем таблицу `moscow_general` по жанру и посчитаем прослушивания треков каждого жанра методом `count()`. Затем отсортируем результат в порядке убывания и сохраним его в таблице `moscow_genres`."
   ]
  },
  {
   "cell_type": "code",
   "execution_count": 35,
   "metadata": {
    "id": "r19lIPke_Zcu"
   },
   "outputs": [],
   "source": [
    "moscow_genres = moscow_general.groupby('genre')['genre'].count().sort_values(ascending = False)"
   ]
  },
  {
   "cell_type": "markdown",
   "metadata": {
    "id": "6kMuomxTiIr8"
   },
   "source": [
    "Выводим на экран первые десять строк `moscow_genres`:"
   ]
  },
  {
   "cell_type": "code",
   "execution_count": 36,
   "metadata": {
    "id": "WhCSooF8_Zcv"
   },
   "outputs": [
    {
     "data": {
      "text/plain": [
       "genre\n",
       "pop            5892\n",
       "dance          4435\n",
       "rock           3965\n",
       "electronic     3786\n",
       "hiphop         2096\n",
       "classical      1616\n",
       "world          1432\n",
       "alternative    1379\n",
       "ruspop         1372\n",
       "rusrap         1161\n",
       "Name: genre, dtype: int64"
      ]
     },
     "execution_count": 36,
     "metadata": {},
     "output_type": "execute_result"
    }
   ],
   "source": [
    "# просмотр первых 10 строк moscow_genres\n",
    "moscow_genres.head(10)"
   ]
  },
  {
   "cell_type": "markdown",
   "metadata": {
    "id": "cnPG2vnN_Zcv"
   },
   "source": [
    "Повторяем то же и для Петербурга.\n",
    "\n",
    "Сгруппируем таблицу `spb_general` по жанру. Посчитаем прослушивания треков каждого жанра. Результат отсортируем в порядке убывания и сохраним в таблице `spb_genres`:\n"
   ]
  },
  {
   "cell_type": "code",
   "execution_count": 37,
   "metadata": {
    "id": "gluLIpE7_Zcv"
   },
   "outputs": [],
   "source": [
    "spb_genres = spb_general.groupby('genre')['genre'].count().sort_values(ascending = False)"
   ]
  },
  {
   "cell_type": "markdown",
   "metadata": {
    "id": "5Doha_ODgyQ8"
   },
   "source": [
    "Выводим на экран первые десять строк `spb_genres`:"
   ]
  },
  {
   "cell_type": "code",
   "execution_count": 38,
   "metadata": {
    "id": "uaGJHjVU_Zcv"
   },
   "outputs": [
    {
     "data": {
      "text/plain": [
       "genre\n",
       "pop            2431\n",
       "dance          1932\n",
       "rock           1879\n",
       "electronic     1737\n",
       "hiphop          960\n",
       "alternative     649\n",
       "classical       646\n",
       "rusrap          564\n",
       "ruspop          538\n",
       "world           515\n",
       "Name: genre, dtype: int64"
      ]
     },
     "execution_count": 38,
     "metadata": {},
     "output_type": "execute_result"
    }
   ],
   "source": [
    "# просмотр первых 10 строк spb_genres\n",
    "spb_genres.head(10)"
   ]
  },
  {
   "cell_type": "markdown",
   "metadata": {
    "id": "RY51YJYu_Zcv"
   },
   "source": [
    "**Выводы**"
   ]
  },
  {
   "cell_type": "markdown",
   "metadata": {
    "id": "nVhnJEm__Zcv"
   },
   "source": [
    "Гипотеза частично подтвердилась:\n",
    "* Поп-музыка — самый популярный жанр в Москве, как и предполагала гипотеза. Более того, в топ-10 жанров встречается близкий жанр — русская популярная музыка.\n",
    "* Вопреки ожиданиям, рэп одинаково популярен в Москве и Петербурге. \n"
   ]
  },
  {
   "cell_type": "markdown",
   "metadata": {
    "id": "ykKQ0N65_Zcv"
   },
   "source": [
    "## Итоги исследования"
   ]
  },
  {
   "cell_type": "markdown",
   "metadata": {
    "id": "tjUwbHb3_Zcv"
   },
   "source": [
    "Проверили три гипотезы и установили:\n",
    "\n",
    "1. День недели по-разному влияет на активность пользователей в Москве и Петербурге. \n",
    "\n",
    "Первая гипотеза полностью подтвердилась.\n",
    "\n",
    "2. Музыкальные предпочтения не сильно меняются в течение недели — будь то Москва или Петербург. Небольшие различия заметны в начале недели, по понедельникам:\n",
    "* в Москве слушают музыку жанра “world”,\n",
    "* в Петербурге — джаз и классику.\n",
    "\n",
    "Таким образом, вторая гипотеза подтвердилась лишь отчасти. Этот результат мог оказаться иным, если бы не пропуски в данных.\n",
    "\n",
    "3. Во вкусах пользователей Москвы и Петербурга больше общего чем различий. Вопреки ожиданиям, предпочтения жанров в Петербурге напоминают московские.\n",
    "\n",
    "Третья гипотеза не подтвердилась. Если различия в предпочтениях и существуют, на основной массе пользователей они незаметны.\n"
   ]
  }
 ],
 "metadata": {
  "ExecuteTimeLog": [
   {
    "duration": 358,
    "start_time": "2022-01-07T07:57:11.186Z"
   },
   {
    "duration": 809,
    "start_time": "2022-01-07T07:57:20.635Z"
   },
   {
    "duration": 212,
    "start_time": "2022-01-07T07:57:21.447Z"
   },
   {
    "duration": 4,
    "start_time": "2022-01-07T07:57:28.408Z"
   },
   {
    "duration": 233,
    "start_time": "2022-01-07T07:57:28.415Z"
   },
   {
    "duration": 4,
    "start_time": "2022-01-07T07:57:44.907Z"
   },
   {
    "duration": 220,
    "start_time": "2022-01-07T07:57:44.913Z"
   },
   {
    "duration": 38,
    "start_time": "2022-01-07T07:57:45.136Z"
   },
   {
    "duration": 4,
    "start_time": "2022-01-07T07:57:45.177Z"
   },
   {
    "duration": 5,
    "start_time": "2022-01-07T07:57:45.183Z"
   },
   {
    "duration": 6,
    "start_time": "2022-01-07T07:57:45.191Z"
   },
   {
    "duration": 5,
    "start_time": "2022-01-07T07:57:45.201Z"
   },
   {
    "duration": 5,
    "start_time": "2022-01-07T07:57:45.209Z"
   },
   {
    "duration": 47,
    "start_time": "2022-01-07T07:57:45.216Z"
   },
   {
    "duration": 3,
    "start_time": "2022-01-07T07:57:45.265Z"
   },
   {
    "duration": 8,
    "start_time": "2022-01-07T07:57:45.270Z"
   },
   {
    "duration": 5,
    "start_time": "2022-01-07T07:57:45.281Z"
   },
   {
    "duration": 7,
    "start_time": "2022-01-07T07:57:45.289Z"
   },
   {
    "duration": 6,
    "start_time": "2022-01-07T07:57:45.298Z"
   },
   {
    "duration": 5,
    "start_time": "2022-01-07T07:57:45.307Z"
   },
   {
    "duration": 6,
    "start_time": "2022-01-07T07:57:45.314Z"
   },
   {
    "duration": 5,
    "start_time": "2022-01-07T07:57:45.322Z"
   },
   {
    "duration": 3,
    "start_time": "2022-01-07T07:57:45.364Z"
   },
   {
    "duration": 4,
    "start_time": "2022-01-07T07:57:45.372Z"
   },
   {
    "duration": 7,
    "start_time": "2022-01-07T07:57:45.379Z"
   },
   {
    "duration": 5,
    "start_time": "2022-01-07T07:57:45.389Z"
   },
   {
    "duration": 5,
    "start_time": "2022-01-07T07:57:45.397Z"
   },
   {
    "duration": 10,
    "start_time": "2022-01-07T07:57:45.405Z"
   },
   {
    "duration": 13,
    "start_time": "2022-01-07T07:57:45.417Z"
   },
   {
    "duration": 32,
    "start_time": "2022-01-07T07:57:45.433Z"
   },
   {
    "duration": 16,
    "start_time": "2022-01-07T07:57:45.467Z"
   },
   {
    "duration": 6,
    "start_time": "2022-01-07T07:57:45.486Z"
   },
   {
    "duration": 7,
    "start_time": "2022-01-07T07:57:45.495Z"
   },
   {
    "duration": 8,
    "start_time": "2022-01-07T07:57:45.505Z"
   },
   {
    "duration": 7,
    "start_time": "2022-01-07T07:57:45.516Z"
   },
   {
    "duration": 38,
    "start_time": "2022-01-07T07:57:45.525Z"
   },
   {
    "duration": 7,
    "start_time": "2022-01-07T07:57:45.566Z"
   },
   {
    "duration": 9,
    "start_time": "2022-01-07T07:57:45.576Z"
   },
   {
    "duration": 5,
    "start_time": "2022-01-07T07:57:45.588Z"
   },
   {
    "duration": 5,
    "start_time": "2022-01-07T07:57:45.595Z"
   },
   {
    "duration": 10,
    "start_time": "2022-01-07T07:57:45.603Z"
   },
   {
    "duration": 5,
    "start_time": "2022-01-07T07:57:45.616Z"
   },
   {
    "duration": 5,
    "start_time": "2022-01-07T07:57:45.624Z"
   },
   {
    "duration": 40,
    "start_time": "2022-01-07T07:59:51.543Z"
   },
   {
    "duration": 6,
    "start_time": "2022-01-07T08:15:10.647Z"
   },
   {
    "duration": 30,
    "start_time": "2022-01-07T08:20:33.091Z"
   },
   {
    "duration": 5,
    "start_time": "2022-01-07T08:21:00.052Z"
   },
   {
    "duration": 30,
    "start_time": "2022-01-07T08:25:43.698Z"
   },
   {
    "duration": 34,
    "start_time": "2022-01-07T08:26:05.160Z"
   },
   {
    "duration": 43,
    "start_time": "2022-01-07T08:26:15.226Z"
   },
   {
    "duration": 8053,
    "start_time": "2022-01-07T09:05:41.300Z"
   },
   {
    "duration": 8439,
    "start_time": "2022-01-07T09:06:52.940Z"
   },
   {
    "duration": 828,
    "start_time": "2022-01-07T09:15:15.932Z"
   },
   {
    "duration": 891,
    "start_time": "2022-01-07T09:16:35.197Z"
   },
   {
    "duration": 746,
    "start_time": "2022-01-07T09:19:58.024Z"
   },
   {
    "duration": 18,
    "start_time": "2022-01-07T09:21:36.840Z"
   },
   {
    "duration": 19,
    "start_time": "2022-01-07T09:22:15.136Z"
   },
   {
    "duration": 8488,
    "start_time": "2022-01-07T09:23:17.764Z"
   },
   {
    "duration": 303,
    "start_time": "2022-01-07T09:24:40.632Z"
   },
   {
    "duration": 8,
    "start_time": "2022-01-07T09:37:53.996Z"
   },
   {
    "duration": 6,
    "start_time": "2022-01-07T09:39:38.682Z"
   },
   {
    "duration": 31,
    "start_time": "2022-01-07T09:40:07.600Z"
   },
   {
    "duration": 22,
    "start_time": "2022-01-07T09:45:11.019Z"
   },
   {
    "duration": 31,
    "start_time": "2022-01-07T09:46:14.634Z"
   },
   {
    "duration": 83,
    "start_time": "2022-01-07T09:47:47.657Z"
   },
   {
    "duration": 288,
    "start_time": "2022-01-07T09:50:10.821Z"
   },
   {
    "duration": 101,
    "start_time": "2022-01-07T09:52:20.269Z"
   },
   {
    "duration": 112,
    "start_time": "2022-01-07T09:52:41.539Z"
   },
   {
    "duration": 9,
    "start_time": "2022-01-07T09:54:57.438Z"
   },
   {
    "duration": 4,
    "start_time": "2022-01-07T10:19:27.671Z"
   },
   {
    "duration": 14,
    "start_time": "2022-01-07T10:23:51.090Z"
   },
   {
    "duration": 10,
    "start_time": "2022-01-07T10:24:45.663Z"
   },
   {
    "duration": 52,
    "start_time": "2022-01-07T10:32:34.008Z"
   },
   {
    "duration": 18,
    "start_time": "2022-01-07T10:35:37.146Z"
   },
   {
    "duration": 45,
    "start_time": "2022-01-07T10:36:19.452Z"
   },
   {
    "duration": 99,
    "start_time": "2022-01-07T10:57:29.317Z"
   },
   {
    "duration": 138,
    "start_time": "2022-01-07T10:57:57.990Z"
   },
   {
    "duration": 94,
    "start_time": "2022-01-07T10:58:45.734Z"
   },
   {
    "duration": 5,
    "start_time": "2022-01-07T10:59:41.785Z"
   },
   {
    "duration": 335,
    "start_time": "2022-01-07T11:02:46.240Z"
   },
   {
    "duration": 328,
    "start_time": "2022-01-07T11:03:06.164Z"
   },
   {
    "duration": 23,
    "start_time": "2022-01-07T11:03:46.074Z"
   },
   {
    "duration": 29,
    "start_time": "2022-01-07T11:04:19.028Z"
   },
   {
    "duration": 25,
    "start_time": "2022-01-07T11:04:53.900Z"
   },
   {
    "duration": 27,
    "start_time": "2022-01-07T11:05:20.966Z"
   },
   {
    "duration": 23,
    "start_time": "2022-01-07T11:05:45.719Z"
   },
   {
    "duration": 20,
    "start_time": "2022-01-07T11:06:01.641Z"
   },
   {
    "duration": 11,
    "start_time": "2022-01-07T11:13:00.374Z"
   },
   {
    "duration": 20,
    "start_time": "2022-01-07T11:18:26.506Z"
   },
   {
    "duration": 21,
    "start_time": "2022-01-07T11:18:29.208Z"
   },
   {
    "duration": 6,
    "start_time": "2022-01-07T11:35:13.228Z"
   },
   {
    "duration": 27,
    "start_time": "2022-01-07T11:36:29.398Z"
   },
   {
    "duration": 23,
    "start_time": "2022-01-07T11:37:07.872Z"
   },
   {
    "duration": 26,
    "start_time": "2022-01-07T11:37:54.142Z"
   },
   {
    "duration": 19,
    "start_time": "2022-01-07T11:38:24.979Z"
   },
   {
    "duration": 22,
    "start_time": "2022-01-07T11:46:26.317Z"
   },
   {
    "duration": 8,
    "start_time": "2022-01-07T11:47:13.649Z"
   },
   {
    "duration": 7,
    "start_time": "2022-01-07T11:47:26.867Z"
   },
   {
    "duration": 7,
    "start_time": "2022-01-07T11:47:37.157Z"
   },
   {
    "duration": 10,
    "start_time": "2022-01-07T11:49:15.943Z"
   },
   {
    "duration": 7,
    "start_time": "2022-01-07T11:49:43.622Z"
   },
   {
    "duration": 5,
    "start_time": "2022-01-07T11:52:57.520Z"
   },
   {
    "duration": 857,
    "start_time": "2022-01-08T10:35:18.750Z"
   },
   {
    "duration": 189,
    "start_time": "2022-01-08T10:35:19.610Z"
   },
   {
    "duration": 25,
    "start_time": "2022-01-08T10:35:19.802Z"
   },
   {
    "duration": 52,
    "start_time": "2022-01-08T10:35:19.830Z"
   },
   {
    "duration": 6,
    "start_time": "2022-01-08T10:35:19.884Z"
   },
   {
    "duration": 31,
    "start_time": "2022-01-08T10:35:19.893Z"
   },
   {
    "duration": 40,
    "start_time": "2022-01-08T10:35:19.927Z"
   },
   {
    "duration": 33,
    "start_time": "2022-01-08T10:35:19.970Z"
   },
   {
    "duration": 23,
    "start_time": "2022-01-08T10:35:20.009Z"
   },
   {
    "duration": 30,
    "start_time": "2022-01-08T10:35:20.069Z"
   },
   {
    "duration": 113,
    "start_time": "2022-01-08T10:35:20.102Z"
   },
   {
    "duration": 115,
    "start_time": "2022-01-08T10:35:20.217Z"
   },
   {
    "duration": 87,
    "start_time": "2022-01-08T10:35:20.334Z"
   },
   {
    "duration": 10,
    "start_time": "2022-01-08T10:35:20.423Z"
   },
   {
    "duration": 4,
    "start_time": "2022-01-08T10:35:20.435Z"
   },
   {
    "duration": 36,
    "start_time": "2022-01-08T10:35:20.442Z"
   },
   {
    "duration": 14,
    "start_time": "2022-01-08T10:35:20.481Z"
   },
   {
    "duration": 46,
    "start_time": "2022-01-08T10:35:20.497Z"
   },
   {
    "duration": 65,
    "start_time": "2022-01-08T10:35:20.545Z"
   },
   {
    "duration": 5,
    "start_time": "2022-01-08T10:35:20.613Z"
   },
   {
    "duration": 48,
    "start_time": "2022-01-08T10:35:20.620Z"
   },
   {
    "duration": 19,
    "start_time": "2022-01-08T10:35:20.670Z"
   },
   {
    "duration": 19,
    "start_time": "2022-01-08T10:35:20.691Z"
   },
   {
    "duration": 18,
    "start_time": "2022-01-08T10:35:20.712Z"
   },
   {
    "duration": 53,
    "start_time": "2022-01-08T10:35:20.732Z"
   },
   {
    "duration": 21,
    "start_time": "2022-01-08T10:35:20.788Z"
   },
   {
    "duration": 12,
    "start_time": "2022-01-08T10:35:20.814Z"
   },
   {
    "duration": 47,
    "start_time": "2022-01-08T10:35:20.829Z"
   },
   {
    "duration": 30,
    "start_time": "2022-01-08T10:35:20.878Z"
   },
   {
    "duration": 14,
    "start_time": "2022-01-08T10:35:20.911Z"
   },
   {
    "duration": 38,
    "start_time": "2022-01-08T10:35:20.928Z"
   },
   {
    "duration": 28,
    "start_time": "2022-01-08T10:35:20.969Z"
   },
   {
    "duration": 23,
    "start_time": "2022-01-08T10:35:20.999Z"
   },
   {
    "duration": 42,
    "start_time": "2022-01-08T10:35:21.025Z"
   },
   {
    "duration": 18,
    "start_time": "2022-01-08T10:35:21.071Z"
   },
   {
    "duration": 9,
    "start_time": "2022-01-08T10:35:21.093Z"
   },
   {
    "duration": 14,
    "start_time": "2022-01-08T10:35:21.105Z"
   },
   {
    "duration": 8,
    "start_time": "2022-01-08T10:35:21.122Z"
   },
   {
    "duration": 814,
    "start_time": "2022-01-08T10:46:23.747Z"
   },
   {
    "duration": 189,
    "start_time": "2022-01-08T10:46:24.563Z"
   },
   {
    "duration": 30,
    "start_time": "2022-01-08T10:46:24.755Z"
   },
   {
    "duration": 33,
    "start_time": "2022-01-08T10:46:24.788Z"
   },
   {
    "duration": 6,
    "start_time": "2022-01-08T10:46:24.824Z"
   },
   {
    "duration": 56,
    "start_time": "2022-01-08T10:46:24.833Z"
   },
   {
    "duration": 7,
    "start_time": "2022-01-08T10:46:24.892Z"
   },
   {
    "duration": 31,
    "start_time": "2022-01-08T10:46:24.903Z"
   },
   {
    "duration": 48,
    "start_time": "2022-01-08T10:46:24.937Z"
   },
   {
    "duration": 31,
    "start_time": "2022-01-08T10:46:24.987Z"
   },
   {
    "duration": 114,
    "start_time": "2022-01-08T10:46:25.020Z"
   },
   {
    "duration": 124,
    "start_time": "2022-01-08T10:46:25.136Z"
   },
   {
    "duration": 76,
    "start_time": "2022-01-08T10:46:25.262Z"
   },
   {
    "duration": 29,
    "start_time": "2022-01-08T10:46:25.340Z"
   },
   {
    "duration": 4,
    "start_time": "2022-01-08T10:46:25.371Z"
   },
   {
    "duration": 16,
    "start_time": "2022-01-08T10:46:25.378Z"
   },
   {
    "duration": 10,
    "start_time": "2022-01-08T10:46:25.396Z"
   },
   {
    "duration": 83,
    "start_time": "2022-01-08T10:46:25.408Z"
   },
   {
    "duration": 43,
    "start_time": "2022-01-08T10:46:25.493Z"
   },
   {
    "duration": 5,
    "start_time": "2022-01-08T10:46:25.539Z"
   },
   {
    "duration": 42,
    "start_time": "2022-01-08T10:46:25.546Z"
   },
   {
    "duration": 18,
    "start_time": "2022-01-08T10:46:25.591Z"
   },
   {
    "duration": 20,
    "start_time": "2022-01-08T10:46:25.614Z"
   },
   {
    "duration": 47,
    "start_time": "2022-01-08T10:46:25.636Z"
   },
   {
    "duration": 21,
    "start_time": "2022-01-08T10:46:25.686Z"
   },
   {
    "duration": 19,
    "start_time": "2022-01-08T10:46:25.709Z"
   },
   {
    "duration": 45,
    "start_time": "2022-01-08T10:46:25.731Z"
   },
   {
    "duration": 18,
    "start_time": "2022-01-08T10:46:25.778Z"
   },
   {
    "duration": 12,
    "start_time": "2022-01-08T10:46:25.798Z"
   },
   {
    "duration": 6,
    "start_time": "2022-01-08T10:46:25.812Z"
   },
   {
    "duration": 67,
    "start_time": "2022-01-08T10:46:25.820Z"
   },
   {
    "duration": 17,
    "start_time": "2022-01-08T10:46:25.889Z"
   },
   {
    "duration": 23,
    "start_time": "2022-01-08T10:46:25.908Z"
   },
   {
    "duration": 43,
    "start_time": "2022-01-08T10:46:25.933Z"
   },
   {
    "duration": 10,
    "start_time": "2022-01-08T10:46:25.979Z"
   },
   {
    "duration": 6,
    "start_time": "2022-01-08T10:46:25.992Z"
   },
   {
    "duration": 12,
    "start_time": "2022-01-08T10:46:26.001Z"
   },
   {
    "duration": 7,
    "start_time": "2022-01-08T10:46:26.016Z"
   },
   {
    "duration": 372,
    "start_time": "2022-01-08T19:21:21.246Z"
   },
   {
    "duration": 823,
    "start_time": "2022-01-08T19:21:35.480Z"
   },
   {
    "duration": 228,
    "start_time": "2022-01-08T19:21:36.307Z"
   },
   {
    "duration": 45,
    "start_time": "2022-01-08T19:21:36.540Z"
   },
   {
    "duration": 48,
    "start_time": "2022-01-08T19:21:36.588Z"
   },
   {
    "duration": 27,
    "start_time": "2022-01-08T19:21:36.640Z"
   },
   {
    "duration": 30,
    "start_time": "2022-01-08T19:21:36.670Z"
   },
   {
    "duration": 5,
    "start_time": "2022-01-08T19:21:36.703Z"
   },
   {
    "duration": 68,
    "start_time": "2022-01-08T19:21:36.713Z"
   },
   {
    "duration": 26,
    "start_time": "2022-01-08T19:21:36.789Z"
   },
   {
    "duration": 60,
    "start_time": "2022-01-08T19:21:36.818Z"
   },
   {
    "duration": 112,
    "start_time": "2022-01-08T19:21:36.881Z"
   },
   {
    "duration": 158,
    "start_time": "2022-01-08T19:21:36.996Z"
   },
   {
    "duration": 88,
    "start_time": "2022-01-08T19:21:37.157Z"
   },
   {
    "duration": 14,
    "start_time": "2022-01-08T19:21:37.263Z"
   },
   {
    "duration": 7,
    "start_time": "2022-01-08T19:21:37.280Z"
   },
   {
    "duration": 19,
    "start_time": "2022-01-08T19:21:37.291Z"
   },
   {
    "duration": 49,
    "start_time": "2022-01-08T19:21:37.316Z"
   },
   {
    "duration": 65,
    "start_time": "2022-01-08T19:21:37.368Z"
   },
   {
    "duration": 80,
    "start_time": "2022-01-08T19:21:37.436Z"
   },
   {
    "duration": 4,
    "start_time": "2022-01-08T19:21:37.519Z"
   },
   {
    "duration": 65,
    "start_time": "2022-01-08T19:21:37.526Z"
   },
   {
    "duration": 23,
    "start_time": "2022-01-08T19:21:37.593Z"
   },
   {
    "duration": 46,
    "start_time": "2022-01-08T19:21:37.624Z"
   },
   {
    "duration": 28,
    "start_time": "2022-01-08T19:21:37.676Z"
   },
   {
    "duration": 62,
    "start_time": "2022-01-08T19:21:37.707Z"
   },
   {
    "duration": 29,
    "start_time": "2022-01-08T19:21:37.772Z"
   },
   {
    "duration": 17,
    "start_time": "2022-01-08T19:21:37.805Z"
   },
   {
    "duration": 60,
    "start_time": "2022-01-08T19:21:37.825Z"
   },
   {
    "duration": 22,
    "start_time": "2022-01-08T19:21:37.889Z"
   },
   {
    "duration": 6,
    "start_time": "2022-01-08T19:21:37.913Z"
   },
   {
    "duration": 62,
    "start_time": "2022-01-08T19:21:37.922Z"
   },
   {
    "duration": 18,
    "start_time": "2022-01-08T19:21:37.987Z"
   },
   {
    "duration": 30,
    "start_time": "2022-01-08T19:21:38.008Z"
   },
   {
    "duration": 42,
    "start_time": "2022-01-08T19:21:38.041Z"
   },
   {
    "duration": 12,
    "start_time": "2022-01-08T19:21:38.086Z"
   },
   {
    "duration": 8,
    "start_time": "2022-01-08T19:21:38.100Z"
   },
   {
    "duration": 13,
    "start_time": "2022-01-08T19:21:38.110Z"
   },
   {
    "duration": 47,
    "start_time": "2022-01-08T19:21:38.126Z"
   },
   {
    "duration": 97,
    "start_time": "2022-01-08T19:25:48.982Z"
   },
   {
    "duration": 314,
    "start_time": "2022-01-09T07:19:16.238Z"
   },
   {
    "duration": 757,
    "start_time": "2022-01-09T07:19:15.798Z"
   },
   {
    "duration": 740,
    "start_time": "2022-01-09T07:19:15.816Z"
   },
   {
    "duration": 733,
    "start_time": "2022-01-09T07:19:15.824Z"
   },
   {
    "duration": 731,
    "start_time": "2022-01-09T07:19:15.827Z"
   },
   {
    "duration": 726,
    "start_time": "2022-01-09T07:19:15.832Z"
   },
   {
    "duration": 721,
    "start_time": "2022-01-09T07:19:15.838Z"
   },
   {
    "duration": 719,
    "start_time": "2022-01-09T07:19:15.841Z"
   },
   {
    "duration": 716,
    "start_time": "2022-01-09T07:19:15.845Z"
   },
   {
    "duration": 708,
    "start_time": "2022-01-09T07:19:15.854Z"
   },
   {
    "duration": 699,
    "start_time": "2022-01-09T07:19:15.864Z"
   },
   {
    "duration": 692,
    "start_time": "2022-01-09T07:19:15.872Z"
   },
   {
    "duration": 689,
    "start_time": "2022-01-09T07:19:15.876Z"
   },
   {
    "duration": 685,
    "start_time": "2022-01-09T07:19:15.881Z"
   },
   {
    "duration": 680,
    "start_time": "2022-01-09T07:19:15.886Z"
   },
   {
    "duration": 676,
    "start_time": "2022-01-09T07:19:15.891Z"
   },
   {
    "duration": 674,
    "start_time": "2022-01-09T07:19:15.894Z"
   },
   {
    "duration": 670,
    "start_time": "2022-01-09T07:19:15.900Z"
   },
   {
    "duration": 669,
    "start_time": "2022-01-09T07:19:15.903Z"
   },
   {
    "duration": 666,
    "start_time": "2022-01-09T07:19:15.906Z"
   },
   {
    "duration": 662,
    "start_time": "2022-01-09T07:19:15.911Z"
   },
   {
    "duration": 658,
    "start_time": "2022-01-09T07:19:15.916Z"
   },
   {
    "duration": 656,
    "start_time": "2022-01-09T07:19:15.919Z"
   },
   {
    "duration": 654,
    "start_time": "2022-01-09T07:19:15.922Z"
   },
   {
    "duration": 651,
    "start_time": "2022-01-09T07:19:15.925Z"
   },
   {
    "duration": 648,
    "start_time": "2022-01-09T07:19:15.929Z"
   },
   {
    "duration": 636,
    "start_time": "2022-01-09T07:19:15.942Z"
   },
   {
    "duration": 632,
    "start_time": "2022-01-09T07:19:15.947Z"
   },
   {
    "duration": 627,
    "start_time": "2022-01-09T07:19:15.952Z"
   },
   {
    "duration": 624,
    "start_time": "2022-01-09T07:19:15.956Z"
   },
   {
    "duration": 621,
    "start_time": "2022-01-09T07:19:15.960Z"
   },
   {
    "duration": 619,
    "start_time": "2022-01-09T07:19:15.963Z"
   },
   {
    "duration": 592,
    "start_time": "2022-01-09T07:19:24.117Z"
   },
   {
    "duration": 131,
    "start_time": "2022-01-09T07:19:24.711Z"
   },
   {
    "duration": 17,
    "start_time": "2022-01-09T07:19:24.844Z"
   },
   {
    "duration": 27,
    "start_time": "2022-01-09T07:19:24.863Z"
   },
   {
    "duration": 5,
    "start_time": "2022-01-09T07:19:24.893Z"
   },
   {
    "duration": 43,
    "start_time": "2022-01-09T07:19:24.900Z"
   },
   {
    "duration": 4,
    "start_time": "2022-01-09T07:19:24.945Z"
   },
   {
    "duration": 33,
    "start_time": "2022-01-09T07:19:24.952Z"
   },
   {
    "duration": 17,
    "start_time": "2022-01-09T07:19:24.987Z"
   },
   {
    "duration": 41,
    "start_time": "2022-01-09T07:19:25.005Z"
   },
   {
    "duration": 57,
    "start_time": "2022-01-09T07:19:25.047Z"
   },
   {
    "duration": 88,
    "start_time": "2022-01-09T07:19:25.106Z"
   },
   {
    "duration": 54,
    "start_time": "2022-01-09T07:19:25.196Z"
   },
   {
    "duration": 6,
    "start_time": "2022-01-09T07:19:25.252Z"
   },
   {
    "duration": 5,
    "start_time": "2022-01-09T07:19:25.260Z"
   },
   {
    "duration": 12,
    "start_time": "2022-01-09T07:19:25.267Z"
   },
   {
    "duration": 8,
    "start_time": "2022-01-09T07:19:25.281Z"
   },
   {
    "duration": 55,
    "start_time": "2022-01-09T07:19:25.291Z"
   },
   {
    "duration": 30,
    "start_time": "2022-01-09T07:19:25.347Z"
   },
   {
    "duration": 3,
    "start_time": "2022-01-09T07:19:25.378Z"
   },
   {
    "duration": 26,
    "start_time": "2022-01-09T07:19:25.383Z"
   },
   {
    "duration": 13,
    "start_time": "2022-01-09T07:19:25.411Z"
   },
   {
    "duration": 15,
    "start_time": "2022-01-09T07:19:25.443Z"
   },
   {
    "duration": 14,
    "start_time": "2022-01-09T07:19:25.459Z"
   },
   {
    "duration": 15,
    "start_time": "2022-01-09T07:19:25.475Z"
   },
   {
    "duration": 14,
    "start_time": "2022-01-09T07:19:25.492Z"
   },
   {
    "duration": 38,
    "start_time": "2022-01-09T07:19:25.508Z"
   },
   {
    "duration": 12,
    "start_time": "2022-01-09T07:19:25.548Z"
   },
   {
    "duration": 22,
    "start_time": "2022-01-09T07:19:25.562Z"
   },
   {
    "duration": 14,
    "start_time": "2022-01-09T07:19:25.586Z"
   },
   {
    "duration": 48,
    "start_time": "2022-01-09T07:19:25.602Z"
   },
   {
    "duration": 30,
    "start_time": "2022-01-09T07:19:25.652Z"
   },
   {
    "duration": 18,
    "start_time": "2022-01-09T07:19:25.684Z"
   },
   {
    "duration": 32,
    "start_time": "2022-01-09T07:19:25.703Z"
   },
   {
    "duration": 15,
    "start_time": "2022-01-09T07:19:25.737Z"
   },
   {
    "duration": 25,
    "start_time": "2022-01-09T07:19:25.754Z"
   },
   {
    "duration": 20,
    "start_time": "2022-01-09T07:19:25.780Z"
   },
   {
    "duration": 20,
    "start_time": "2022-01-09T07:19:25.802Z"
   },
   {
    "duration": 37,
    "start_time": "2022-01-09T07:24:51.050Z"
   },
   {
    "duration": 3,
    "start_time": "2022-01-09T07:28:09.359Z"
   },
   {
    "duration": 130,
    "start_time": "2022-01-09T07:28:09.366Z"
   },
   {
    "duration": 9,
    "start_time": "2022-01-09T07:28:09.498Z"
   },
   {
    "duration": 34,
    "start_time": "2022-01-09T07:28:09.509Z"
   },
   {
    "duration": 6,
    "start_time": "2022-01-09T07:28:09.545Z"
   },
   {
    "duration": 17,
    "start_time": "2022-01-09T07:28:09.553Z"
   },
   {
    "duration": 4,
    "start_time": "2022-01-09T07:28:09.571Z"
   },
   {
    "duration": 23,
    "start_time": "2022-01-09T07:28:09.577Z"
   },
   {
    "duration": 41,
    "start_time": "2022-01-09T07:28:09.602Z"
   },
   {
    "duration": 21,
    "start_time": "2022-01-09T07:28:09.645Z"
   },
   {
    "duration": 49,
    "start_time": "2022-01-09T07:28:09.668Z"
   },
   {
    "duration": 77,
    "start_time": "2022-01-09T07:28:09.719Z"
   },
   {
    "duration": 53,
    "start_time": "2022-01-09T07:28:09.797Z"
   },
   {
    "duration": 75,
    "start_time": "2022-01-09T07:32:22.467Z"
   },
   {
    "duration": 126,
    "start_time": "2022-01-09T07:33:06.300Z"
   },
   {
    "duration": 120,
    "start_time": "2022-01-09T07:34:06.620Z"
   },
   {
    "duration": 2,
    "start_time": "2022-01-09T07:34:25.138Z"
   },
   {
    "duration": 135,
    "start_time": "2022-01-09T07:34:25.143Z"
   },
   {
    "duration": 11,
    "start_time": "2022-01-09T07:34:25.279Z"
   },
   {
    "duration": 51,
    "start_time": "2022-01-09T07:34:25.292Z"
   },
   {
    "duration": 4,
    "start_time": "2022-01-09T07:34:25.345Z"
   },
   {
    "duration": 19,
    "start_time": "2022-01-09T07:34:25.351Z"
   },
   {
    "duration": 4,
    "start_time": "2022-01-09T07:34:25.371Z"
   },
   {
    "duration": 25,
    "start_time": "2022-01-09T07:34:25.377Z"
   },
   {
    "duration": 43,
    "start_time": "2022-01-09T07:34:25.405Z"
   },
   {
    "duration": 22,
    "start_time": "2022-01-09T07:34:25.450Z"
   },
   {
    "duration": 51,
    "start_time": "2022-01-09T07:34:25.474Z"
   },
   {
    "duration": 68,
    "start_time": "2022-01-09T07:34:25.527Z"
   },
   {
    "duration": 59,
    "start_time": "2022-01-09T07:34:25.597Z"
   },
   {
    "duration": 37,
    "start_time": "2022-01-09T07:34:25.658Z"
   },
   {
    "duration": 83,
    "start_time": "2022-01-09T07:34:25.696Z"
   },
   {
    "duration": 743,
    "start_time": "2022-01-09T07:34:25.038Z"
   },
   {
    "duration": 739,
    "start_time": "2022-01-09T07:34:25.043Z"
   },
   {
    "duration": 735,
    "start_time": "2022-01-09T07:34:25.048Z"
   },
   {
    "duration": 733,
    "start_time": "2022-01-09T07:34:25.051Z"
   },
   {
    "duration": 729,
    "start_time": "2022-01-09T07:34:25.056Z"
   },
   {
    "duration": 727,
    "start_time": "2022-01-09T07:34:25.059Z"
   },
   {
    "duration": 705,
    "start_time": "2022-01-09T07:34:25.082Z"
   },
   {
    "duration": 701,
    "start_time": "2022-01-09T07:34:25.087Z"
   },
   {
    "duration": 699,
    "start_time": "2022-01-09T07:34:25.090Z"
   },
   {
    "duration": 697,
    "start_time": "2022-01-09T07:34:25.093Z"
   },
   {
    "duration": 695,
    "start_time": "2022-01-09T07:34:25.096Z"
   },
   {
    "duration": 693,
    "start_time": "2022-01-09T07:34:25.099Z"
   },
   {
    "duration": 689,
    "start_time": "2022-01-09T07:34:25.104Z"
   },
   {
    "duration": 687,
    "start_time": "2022-01-09T07:34:25.107Z"
   },
   {
    "duration": 685,
    "start_time": "2022-01-09T07:34:25.110Z"
   },
   {
    "duration": 682,
    "start_time": "2022-01-09T07:34:25.114Z"
   },
   {
    "duration": 680,
    "start_time": "2022-01-09T07:34:25.117Z"
   },
   {
    "duration": 678,
    "start_time": "2022-01-09T07:34:25.120Z"
   },
   {
    "duration": 676,
    "start_time": "2022-01-09T07:34:25.123Z"
   },
   {
    "duration": 674,
    "start_time": "2022-01-09T07:34:25.126Z"
   },
   {
    "duration": 671,
    "start_time": "2022-01-09T07:34:25.129Z"
   },
   {
    "duration": 669,
    "start_time": "2022-01-09T07:34:25.132Z"
   },
   {
    "duration": 663,
    "start_time": "2022-01-09T07:34:25.139Z"
   },
   {
    "duration": 660,
    "start_time": "2022-01-09T07:34:25.143Z"
   },
   {
    "duration": 76,
    "start_time": "2022-01-09T07:40:47.905Z"
   },
   {
    "duration": 78,
    "start_time": "2022-01-09T07:41:32.226Z"
   },
   {
    "duration": 83,
    "start_time": "2022-01-09T07:44:39.247Z"
   },
   {
    "duration": 77,
    "start_time": "2022-01-09T07:46:12.143Z"
   },
   {
    "duration": 390,
    "start_time": "2022-01-09T07:47:21.494Z"
   },
   {
    "duration": 81,
    "start_time": "2022-01-09T07:50:01.754Z"
   },
   {
    "duration": 112,
    "start_time": "2022-01-09T07:53:29.474Z"
   },
   {
    "duration": 82,
    "start_time": "2022-01-09T07:57:45.672Z"
   },
   {
    "duration": 79,
    "start_time": "2022-01-09T07:59:21.354Z"
   },
   {
    "duration": 112,
    "start_time": "2022-01-09T07:59:32.972Z"
   },
   {
    "duration": 2,
    "start_time": "2022-01-09T07:59:50.267Z"
   },
   {
    "duration": 149,
    "start_time": "2022-01-09T07:59:50.272Z"
   },
   {
    "duration": 17,
    "start_time": "2022-01-09T07:59:50.424Z"
   },
   {
    "duration": 27,
    "start_time": "2022-01-09T07:59:50.443Z"
   },
   {
    "duration": 6,
    "start_time": "2022-01-09T07:59:50.471Z"
   },
   {
    "duration": 19,
    "start_time": "2022-01-09T07:59:50.479Z"
   },
   {
    "duration": 4,
    "start_time": "2022-01-09T07:59:50.501Z"
   },
   {
    "duration": 51,
    "start_time": "2022-01-09T07:59:50.506Z"
   },
   {
    "duration": 20,
    "start_time": "2022-01-09T07:59:50.559Z"
   },
   {
    "duration": 25,
    "start_time": "2022-01-09T07:59:50.581Z"
   },
   {
    "duration": 83,
    "start_time": "2022-01-09T07:59:50.607Z"
   },
   {
    "duration": 71,
    "start_time": "2022-01-09T07:59:50.692Z"
   },
   {
    "duration": 50,
    "start_time": "2022-01-09T07:59:50.765Z"
   },
   {
    "duration": 53,
    "start_time": "2022-01-09T07:59:50.817Z"
   },
   {
    "duration": 12,
    "start_time": "2022-01-09T08:04:43.014Z"
   },
   {
    "duration": 38,
    "start_time": "2022-01-09T08:06:37.430Z"
   },
   {
    "duration": 86,
    "start_time": "2022-01-09T08:09:20.704Z"
   },
   {
    "duration": 31,
    "start_time": "2022-01-09T08:09:53.658Z"
   },
   {
    "duration": 29,
    "start_time": "2022-01-09T08:09:57.970Z"
   },
   {
    "duration": 80,
    "start_time": "2022-01-09T08:13:25.557Z"
   },
   {
    "duration": 11,
    "start_time": "2022-01-09T08:13:33.109Z"
   },
   {
    "duration": 11,
    "start_time": "2022-01-09T08:14:11.188Z"
   },
   {
    "duration": 81,
    "start_time": "2022-01-09T08:16:36.401Z"
   },
   {
    "duration": 3,
    "start_time": "2022-01-09T08:24:24.137Z"
   },
   {
    "duration": 3,
    "start_time": "2022-01-09T08:27:57.174Z"
   },
   {
    "duration": 141,
    "start_time": "2022-01-09T08:27:57.181Z"
   },
   {
    "duration": 9,
    "start_time": "2022-01-09T08:27:57.325Z"
   },
   {
    "duration": 23,
    "start_time": "2022-01-09T08:27:57.336Z"
   },
   {
    "duration": 9,
    "start_time": "2022-01-09T08:27:57.361Z"
   },
   {
    "duration": 15,
    "start_time": "2022-01-09T08:27:57.372Z"
   },
   {
    "duration": 4,
    "start_time": "2022-01-09T08:27:57.388Z"
   },
   {
    "duration": 25,
    "start_time": "2022-01-09T08:27:57.393Z"
   },
   {
    "duration": 32,
    "start_time": "2022-01-09T08:27:57.419Z"
   },
   {
    "duration": 20,
    "start_time": "2022-01-09T08:27:57.453Z"
   },
   {
    "duration": 50,
    "start_time": "2022-01-09T08:27:57.475Z"
   },
   {
    "duration": 57,
    "start_time": "2022-01-09T08:27:57.541Z"
   },
   {
    "duration": 58,
    "start_time": "2022-01-09T08:27:57.600Z"
   },
   {
    "duration": 37,
    "start_time": "2022-01-09T08:27:57.659Z"
   },
   {
    "duration": 11,
    "start_time": "2022-01-09T08:27:57.698Z"
   },
   {
    "duration": 22,
    "start_time": "2022-01-09T08:27:57.710Z"
   },
   {
    "duration": 40,
    "start_time": "2022-01-09T08:27:57.733Z"
   },
   {
    "duration": 12,
    "start_time": "2022-01-09T08:27:57.774Z"
   },
   {
    "duration": 11,
    "start_time": "2022-01-09T08:27:57.787Z"
   },
   {
    "duration": 9,
    "start_time": "2022-01-09T08:27:57.800Z"
   },
   {
    "duration": 34,
    "start_time": "2022-01-09T08:27:57.811Z"
   },
   {
    "duration": 14,
    "start_time": "2022-01-09T08:27:57.846Z"
   },
   {
    "duration": 14,
    "start_time": "2022-01-09T08:27:57.861Z"
   },
   {
    "duration": 12,
    "start_time": "2022-01-09T08:27:57.877Z"
   },
   {
    "duration": 14,
    "start_time": "2022-01-09T08:27:57.890Z"
   },
   {
    "duration": 45,
    "start_time": "2022-01-09T08:27:57.905Z"
   },
   {
    "duration": 9,
    "start_time": "2022-01-09T08:28:01.413Z"
   },
   {
    "duration": 3,
    "start_time": "2022-01-09T08:36:10.840Z"
   },
   {
    "duration": 144,
    "start_time": "2022-01-09T08:36:10.844Z"
   },
   {
    "duration": 9,
    "start_time": "2022-01-09T08:36:10.990Z"
   },
   {
    "duration": 36,
    "start_time": "2022-01-09T08:36:11.000Z"
   },
   {
    "duration": 19,
    "start_time": "2022-01-09T08:36:11.038Z"
   },
   {
    "duration": 25,
    "start_time": "2022-01-09T08:36:11.058Z"
   },
   {
    "duration": 13,
    "start_time": "2022-01-09T08:36:11.085Z"
   },
   {
    "duration": 41,
    "start_time": "2022-01-09T08:36:11.099Z"
   },
   {
    "duration": 27,
    "start_time": "2022-01-09T08:36:11.141Z"
   },
   {
    "duration": 33,
    "start_time": "2022-01-09T08:36:11.169Z"
   },
   {
    "duration": 63,
    "start_time": "2022-01-09T08:36:11.203Z"
   },
   {
    "duration": 55,
    "start_time": "2022-01-09T08:36:11.267Z"
   },
   {
    "duration": 48,
    "start_time": "2022-01-09T08:36:11.324Z"
   },
   {
    "duration": 36,
    "start_time": "2022-01-09T08:36:11.374Z"
   },
   {
    "duration": 11,
    "start_time": "2022-01-09T08:36:11.411Z"
   },
   {
    "duration": 37,
    "start_time": "2022-01-09T08:36:11.424Z"
   },
   {
    "duration": 65,
    "start_time": "2022-01-09T08:36:11.463Z"
   },
   {
    "duration": 26,
    "start_time": "2022-01-09T08:36:11.530Z"
   },
   {
    "duration": 10,
    "start_time": "2022-01-09T08:36:11.558Z"
   },
   {
    "duration": 13,
    "start_time": "2022-01-09T08:36:11.569Z"
   },
   {
    "duration": 42,
    "start_time": "2022-01-09T08:36:11.584Z"
   },
   {
    "duration": 14,
    "start_time": "2022-01-09T08:36:11.627Z"
   },
   {
    "duration": 25,
    "start_time": "2022-01-09T08:36:11.642Z"
   },
   {
    "duration": 12,
    "start_time": "2022-01-09T08:36:11.669Z"
   },
   {
    "duration": 21,
    "start_time": "2022-01-09T08:36:11.683Z"
   },
   {
    "duration": 23,
    "start_time": "2022-01-09T08:36:11.706Z"
   },
   {
    "duration": 30,
    "start_time": "2022-01-09T08:36:11.730Z"
   },
   {
    "duration": 20,
    "start_time": "2022-01-09T08:36:11.762Z"
   },
   {
    "duration": 18,
    "start_time": "2022-01-09T08:36:11.783Z"
   },
   {
    "duration": 104,
    "start_time": "2022-01-09T08:36:11.803Z"
   },
   {
    "duration": 752,
    "start_time": "2022-01-09T08:36:11.157Z"
   },
   {
    "duration": 739,
    "start_time": "2022-01-09T08:36:11.171Z"
   },
   {
    "duration": 734,
    "start_time": "2022-01-09T08:36:11.176Z"
   },
   {
    "duration": 730,
    "start_time": "2022-01-09T08:36:11.181Z"
   },
   {
    "duration": 728,
    "start_time": "2022-01-09T08:36:11.184Z"
   },
   {
    "duration": 727,
    "start_time": "2022-01-09T08:36:11.187Z"
   },
   {
    "duration": 724,
    "start_time": "2022-01-09T08:36:11.190Z"
   },
   {
    "duration": 722,
    "start_time": "2022-01-09T08:36:11.193Z"
   },
   {
    "duration": 4,
    "start_time": "2022-01-09T08:36:22.221Z"
   },
   {
    "duration": 16,
    "start_time": "2022-01-09T08:48:02.555Z"
   },
   {
    "duration": 15,
    "start_time": "2022-01-09T08:48:09.667Z"
   },
   {
    "duration": 9,
    "start_time": "2022-01-09T08:48:44.956Z"
   },
   {
    "duration": 8,
    "start_time": "2022-01-09T08:49:06.941Z"
   },
   {
    "duration": 2,
    "start_time": "2022-01-09T08:55:00.917Z"
   },
   {
    "duration": 145,
    "start_time": "2022-01-09T08:55:00.922Z"
   },
   {
    "duration": 11,
    "start_time": "2022-01-09T08:55:01.069Z"
   },
   {
    "duration": 46,
    "start_time": "2022-01-09T08:55:01.081Z"
   },
   {
    "duration": 12,
    "start_time": "2022-01-09T08:55:01.129Z"
   },
   {
    "duration": 22,
    "start_time": "2022-01-09T08:55:01.143Z"
   },
   {
    "duration": 3,
    "start_time": "2022-01-09T08:55:01.167Z"
   },
   {
    "duration": 48,
    "start_time": "2022-01-09T08:55:01.172Z"
   },
   {
    "duration": 32,
    "start_time": "2022-01-09T08:55:01.223Z"
   },
   {
    "duration": 26,
    "start_time": "2022-01-09T08:55:01.257Z"
   },
   {
    "duration": 56,
    "start_time": "2022-01-09T08:55:01.285Z"
   },
   {
    "duration": 64,
    "start_time": "2022-01-09T08:55:01.343Z"
   },
   {
    "duration": 63,
    "start_time": "2022-01-09T08:55:01.409Z"
   },
   {
    "duration": 36,
    "start_time": "2022-01-09T08:55:01.474Z"
   },
   {
    "duration": 21,
    "start_time": "2022-01-09T08:55:01.512Z"
   },
   {
    "duration": 16,
    "start_time": "2022-01-09T08:55:01.535Z"
   },
   {
    "duration": 36,
    "start_time": "2022-01-09T08:55:01.553Z"
   },
   {
    "duration": 15,
    "start_time": "2022-01-09T08:55:01.591Z"
   },
   {
    "duration": 19,
    "start_time": "2022-01-09T08:55:01.607Z"
   },
   {
    "duration": 13,
    "start_time": "2022-01-09T08:55:01.627Z"
   },
   {
    "duration": 23,
    "start_time": "2022-01-09T08:55:01.642Z"
   },
   {
    "duration": 13,
    "start_time": "2022-01-09T08:55:01.666Z"
   },
   {
    "duration": 12,
    "start_time": "2022-01-09T08:55:01.681Z"
   },
   {
    "duration": 11,
    "start_time": "2022-01-09T08:55:01.695Z"
   },
   {
    "duration": 17,
    "start_time": "2022-01-09T08:55:01.707Z"
   },
   {
    "duration": 25,
    "start_time": "2022-01-09T08:55:01.725Z"
   },
   {
    "duration": 853,
    "start_time": "2022-01-09T10:39:00.997Z"
   },
   {
    "duration": 212,
    "start_time": "2022-01-09T10:39:01.852Z"
   },
   {
    "duration": 25,
    "start_time": "2022-01-09T10:39:02.067Z"
   },
   {
    "duration": 27,
    "start_time": "2022-01-09T10:39:02.094Z"
   },
   {
    "duration": 4,
    "start_time": "2022-01-09T10:39:02.123Z"
   },
   {
    "duration": 54,
    "start_time": "2022-01-09T10:39:02.129Z"
   },
   {
    "duration": 4,
    "start_time": "2022-01-09T10:39:02.186Z"
   },
   {
    "duration": 26,
    "start_time": "2022-01-09T10:39:02.194Z"
   },
   {
    "duration": 44,
    "start_time": "2022-01-09T10:39:02.223Z"
   },
   {
    "duration": 27,
    "start_time": "2022-01-09T10:39:02.269Z"
   },
   {
    "duration": 96,
    "start_time": "2022-01-09T10:39:02.299Z"
   },
   {
    "duration": 85,
    "start_time": "2022-01-09T10:39:02.397Z"
   },
   {
    "duration": 52,
    "start_time": "2022-01-09T10:39:02.484Z"
   },
   {
    "duration": 54,
    "start_time": "2022-01-09T10:39:02.538Z"
   },
   {
    "duration": 3,
    "start_time": "2022-01-09T10:39:02.594Z"
   },
   {
    "duration": 15,
    "start_time": "2022-01-09T10:39:02.599Z"
   },
   {
    "duration": 59,
    "start_time": "2022-01-09T10:39:02.617Z"
   },
   {
    "duration": 11,
    "start_time": "2022-01-09T10:39:02.678Z"
   },
   {
    "duration": 11,
    "start_time": "2022-01-09T10:39:02.691Z"
   },
   {
    "duration": 4,
    "start_time": "2022-01-09T10:39:02.703Z"
   },
   {
    "duration": 18,
    "start_time": "2022-01-09T10:39:02.709Z"
   },
   {
    "duration": 43,
    "start_time": "2022-01-09T10:39:02.728Z"
   },
   {
    "duration": 31,
    "start_time": "2022-01-09T10:39:02.776Z"
   },
   {
    "duration": 13,
    "start_time": "2022-01-09T10:39:02.809Z"
   },
   {
    "duration": 17,
    "start_time": "2022-01-09T10:39:02.824Z"
   },
   {
    "duration": 27,
    "start_time": "2022-01-09T10:39:02.843Z"
   },
   {
    "duration": 9,
    "start_time": "2022-01-09T10:39:02.872Z"
   },
   {
    "duration": 17,
    "start_time": "2022-01-09T10:39:02.882Z"
   },
   {
    "duration": 10,
    "start_time": "2022-01-09T10:39:02.901Z"
   },
   {
    "duration": 107,
    "start_time": "2022-01-09T10:39:02.912Z"
   },
   {
    "duration": 176,
    "start_time": "2022-01-09T10:39:02.845Z"
   },
   {
    "duration": 175,
    "start_time": "2022-01-09T10:39:02.847Z"
   },
   {
    "duration": 173,
    "start_time": "2022-01-09T10:39:02.850Z"
   },
   {
    "duration": 171,
    "start_time": "2022-01-09T10:39:02.853Z"
   },
   {
    "duration": 170,
    "start_time": "2022-01-09T10:39:02.855Z"
   },
   {
    "duration": 167,
    "start_time": "2022-01-09T10:39:02.858Z"
   },
   {
    "duration": 165,
    "start_time": "2022-01-09T10:39:02.861Z"
   },
   {
    "duration": -2,
    "start_time": "2022-01-09T10:39:03.029Z"
   },
   {
    "duration": 599,
    "start_time": "2022-01-09T10:39:30.318Z"
   },
   {
    "duration": 155,
    "start_time": "2022-01-09T10:39:30.919Z"
   },
   {
    "duration": 16,
    "start_time": "2022-01-09T10:39:31.077Z"
   },
   {
    "duration": 54,
    "start_time": "2022-01-09T10:39:31.095Z"
   },
   {
    "duration": 8,
    "start_time": "2022-01-09T10:39:31.151Z"
   },
   {
    "duration": 27,
    "start_time": "2022-01-09T10:39:31.161Z"
   },
   {
    "duration": 13,
    "start_time": "2022-01-09T10:39:31.190Z"
   },
   {
    "duration": 40,
    "start_time": "2022-01-09T10:39:31.206Z"
   },
   {
    "duration": 27,
    "start_time": "2022-01-09T10:39:31.249Z"
   },
   {
    "duration": 38,
    "start_time": "2022-01-09T10:39:31.278Z"
   },
   {
    "duration": 80,
    "start_time": "2022-01-09T10:39:31.318Z"
   },
   {
    "duration": 119,
    "start_time": "2022-01-09T10:39:31.400Z"
   },
   {
    "duration": 83,
    "start_time": "2022-01-09T10:39:31.521Z"
   },
   {
    "duration": 56,
    "start_time": "2022-01-09T10:39:31.606Z"
   },
   {
    "duration": 3,
    "start_time": "2022-01-09T10:39:31.664Z"
   },
   {
    "duration": 18,
    "start_time": "2022-01-09T10:39:31.669Z"
   },
   {
    "duration": 56,
    "start_time": "2022-01-09T10:39:31.689Z"
   },
   {
    "duration": 20,
    "start_time": "2022-01-09T10:39:31.747Z"
   },
   {
    "duration": 16,
    "start_time": "2022-01-09T10:39:31.769Z"
   },
   {
    "duration": 4,
    "start_time": "2022-01-09T10:39:31.787Z"
   },
   {
    "duration": 26,
    "start_time": "2022-01-09T10:39:31.793Z"
   },
   {
    "duration": 40,
    "start_time": "2022-01-09T10:39:31.821Z"
   },
   {
    "duration": 23,
    "start_time": "2022-01-09T10:39:31.866Z"
   },
   {
    "duration": 20,
    "start_time": "2022-01-09T10:39:31.891Z"
   },
   {
    "duration": 15,
    "start_time": "2022-01-09T10:39:31.912Z"
   },
   {
    "duration": 40,
    "start_time": "2022-01-09T10:39:31.929Z"
   },
   {
    "duration": 9,
    "start_time": "2022-01-09T10:39:31.971Z"
   },
   {
    "duration": 14,
    "start_time": "2022-01-09T10:39:31.982Z"
   },
   {
    "duration": 10,
    "start_time": "2022-01-09T10:39:31.998Z"
   },
   {
    "duration": 89,
    "start_time": "2022-01-09T10:39:32.009Z"
   },
   {
    "duration": 189,
    "start_time": "2022-01-09T10:39:31.911Z"
   },
   {
    "duration": 187,
    "start_time": "2022-01-09T10:39:31.914Z"
   },
   {
    "duration": 185,
    "start_time": "2022-01-09T10:39:31.917Z"
   },
   {
    "duration": 182,
    "start_time": "2022-01-09T10:39:31.920Z"
   },
   {
    "duration": 180,
    "start_time": "2022-01-09T10:39:31.923Z"
   },
   {
    "duration": 178,
    "start_time": "2022-01-09T10:39:31.926Z"
   },
   {
    "duration": 176,
    "start_time": "2022-01-09T10:39:31.929Z"
   },
   {
    "duration": 174,
    "start_time": "2022-01-09T10:39:31.932Z"
   },
   {
    "duration": 4,
    "start_time": "2022-01-09T10:44:43.583Z"
   },
   {
    "duration": 615,
    "start_time": "2022-01-09T10:45:18.540Z"
   },
   {
    "duration": 141,
    "start_time": "2022-01-09T10:45:19.157Z"
   },
   {
    "duration": 16,
    "start_time": "2022-01-09T10:45:19.301Z"
   },
   {
    "duration": 26,
    "start_time": "2022-01-09T10:45:19.319Z"
   },
   {
    "duration": 13,
    "start_time": "2022-01-09T10:45:19.347Z"
   },
   {
    "duration": 23,
    "start_time": "2022-01-09T10:45:19.361Z"
   },
   {
    "duration": 8,
    "start_time": "2022-01-09T10:45:19.386Z"
   },
   {
    "duration": 26,
    "start_time": "2022-01-09T10:45:19.395Z"
   },
   {
    "duration": 40,
    "start_time": "2022-01-09T10:45:19.424Z"
   },
   {
    "duration": 23,
    "start_time": "2022-01-09T10:45:19.466Z"
   },
   {
    "duration": 77,
    "start_time": "2022-01-09T10:45:19.491Z"
   },
   {
    "duration": 75,
    "start_time": "2022-01-09T10:45:19.569Z"
   },
   {
    "duration": 63,
    "start_time": "2022-01-09T10:45:19.646Z"
   },
   {
    "duration": 58,
    "start_time": "2022-01-09T10:45:19.711Z"
   },
   {
    "duration": 3,
    "start_time": "2022-01-09T10:45:19.771Z"
   },
   {
    "duration": 16,
    "start_time": "2022-01-09T10:45:19.776Z"
   },
   {
    "duration": 46,
    "start_time": "2022-01-09T10:45:19.793Z"
   },
   {
    "duration": 30,
    "start_time": "2022-01-09T10:45:19.841Z"
   },
   {
    "duration": 21,
    "start_time": "2022-01-09T10:45:19.873Z"
   },
   {
    "duration": 6,
    "start_time": "2022-01-09T10:45:19.896Z"
   },
   {
    "duration": 24,
    "start_time": "2022-01-09T10:45:19.904Z"
   },
   {
    "duration": 31,
    "start_time": "2022-01-09T10:45:19.930Z"
   },
   {
    "duration": 15,
    "start_time": "2022-01-09T10:45:19.963Z"
   },
   {
    "duration": 17,
    "start_time": "2022-01-09T10:45:19.980Z"
   },
   {
    "duration": 16,
    "start_time": "2022-01-09T10:45:19.999Z"
   },
   {
    "duration": 48,
    "start_time": "2022-01-09T10:45:20.017Z"
   },
   {
    "duration": 8,
    "start_time": "2022-01-09T10:45:20.068Z"
   },
   {
    "duration": 16,
    "start_time": "2022-01-09T10:45:20.078Z"
   },
   {
    "duration": 9,
    "start_time": "2022-01-09T10:45:20.096Z"
   },
   {
    "duration": 3,
    "start_time": "2022-01-09T10:45:20.107Z"
   },
   {
    "duration": 29,
    "start_time": "2022-01-09T10:45:20.112Z"
   },
   {
    "duration": 26,
    "start_time": "2022-01-09T10:45:20.143Z"
   },
   {
    "duration": 18,
    "start_time": "2022-01-09T10:45:20.170Z"
   },
   {
    "duration": 12,
    "start_time": "2022-01-09T10:45:20.189Z"
   },
   {
    "duration": 11,
    "start_time": "2022-01-09T10:45:20.203Z"
   },
   {
    "duration": 4,
    "start_time": "2022-01-09T10:45:20.216Z"
   },
   {
    "duration": 41,
    "start_time": "2022-01-09T10:45:20.221Z"
   },
   {
    "duration": 4,
    "start_time": "2022-01-09T10:45:20.264Z"
   },
   {
    "duration": 93,
    "start_time": "2022-01-09T17:47:00.697Z"
   },
   {
    "duration": 85,
    "start_time": "2022-01-09T17:47:21.304Z"
   }
  ],
  "colab": {
   "collapsed_sections": [
    "E0vqbgi9ay0H",
    "VUC88oWjTJw2"
   ],
   "name": "yandex_music_project_2021.2.ipynb",
   "provenance": []
  },
  "kernelspec": {
   "display_name": "Python 3 (ipykernel)",
   "language": "python",
   "name": "python3"
  },
  "language_info": {
   "codemirror_mode": {
    "name": "ipython",
    "version": 3
   },
   "file_extension": ".py",
   "mimetype": "text/x-python",
   "name": "python",
   "nbconvert_exporter": "python",
   "pygments_lexer": "ipython3",
   "version": "3.9.7"
  },
  "toc": {
   "base_numbering": 1,
   "nav_menu": {},
   "number_sections": true,
   "sideBar": true,
   "skip_h1_title": true,
   "title_cell": "Table of Contents",
   "title_sidebar": "Contents",
   "toc_cell": false,
   "toc_position": {},
   "toc_section_display": true,
   "toc_window_display": true
  }
 },
 "nbformat": 4,
 "nbformat_minor": 1
}
